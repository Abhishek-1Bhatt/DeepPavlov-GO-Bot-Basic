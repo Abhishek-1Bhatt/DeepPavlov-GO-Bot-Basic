{
 "cells": [
  {
   "cell_type": "code",
   "execution_count": 46,
   "id": "laughing-fraction",
   "metadata": {},
   "outputs": [
    {
     "name": "stdout",
     "output_type": "stream",
     "text": [
      "Overwriting stories.md\n"
     ]
    }
   ],
   "source": [
    "%%writefile stories.md\n",
    "\n",
    "## story1\n",
    "* greet\n",
    "    - utter_greet\n",
    "    \n",
    "## story 2\n",
    "* goodbye\n",
    "    - utter_goodbye\n",
    "    \n",
    "## story 3\n",
    "* ask_weather\n",
    "    - utter_ask_location\n",
    "\n",
    "## story 4\n",
    "* ask_weather_location\n",
    "    - utter_pleasant\n",
    "\n",
    "## story 5\n",
    "* greet\n",
    "    - utter_greet\n",
    "* ask_weather_location{\"location\": \"stuttgart\"}\n",
    "    - slot{\"location\": \"stuttgart\"}\n",
    "    - utter_pleasant\n",
    "    - utter_did_that_help\n",
    "* goodbye\n",
    "    - utter_goodbye\n",
    "\n",
    "## story 6\n",
    "* greet\n",
    "    - utter_greet\n",
    "* ask_weather\n",
    "    - utter_ask_location\n",
    "* ask_weather_location{\"location\": \"berlin\"}\n",
    "    - slot{\"location\": \"berlin\"}\n",
    "    - utter_pleasant\n",
    "    - utter_did_that_help\n",
    "* goodbye\n",
    "    - utter_goodbye\n",
    "\n",
    "## story 7\n",
    "* greet\n",
    "    - utter_greet\n",
    "* ask_weather\n",
    "    - utter_ask_location\n",
    "* ask_weather_location{\"location\": \"cologne\"}\n",
    "    - slot{\"location\": \"cologne\"}\n",
    "    - utter_pleasant\n",
    "    - utter_did_that_help\n",
    "* goodbye\n",
    "    - utter_goodbye\n",
    "\n",
    "## story 8\n",
    "* greet\n",
    "    - utter_greet\n",
    "* ask_weather\n",
    "    - utter_ask_location\n",
    "* ask_weather_location{\"location\": \"Kiel\"}\n",
    "    - slot{\"location\": \"Kiel\"}\n",
    "    - utter_pleasant\n",
    "    - utter_did_that_help\n",
    "* goodbye\n",
    "    - utter_goodbye\n",
    "\n",
    "## story 9\n",
    "* greet\n",
    "    - utter_greet\n",
    "* ask_weather_location{\"location\": \"Jamaica\"}\n",
    "    - slot{\"location\": \"Jamaica\"}\n",
    "    - utter_pleasant\n",
    "    - utter_did_that_help\n",
    "* goodbye\n",
    "    - utter_goodbye\n",
    "\n",
    "## story 10\n",
    "* greet\n",
    "    - utter_greet\n",
    "* ask_weather\n",
    "    - utter_ask_location\n",
    "* ask_weather_location{\"location\": \"dhaka\"}\n",
    "    - slot{\"location\": \"dhaka\"}\n",
    "    - utter_pleasant\n",
    "    - utter_did_that_help\n",
    "* ask_weather_location{\"location\": \"Chittagong\"}\n",
    "    - slot{\"location\": \"Chittagong\"}\n",
    "    - utter_pleasant\n",
    "    - utter_did_that_help\n",
    "* goodbye\n",
    "    - utter_goodbye\n",
    "\n",
    "## story 11\n",
    "* greet\n",
    "    - utter_greet\n",
    "* ask_weather\n",
    "    - utter_ask_location\n",
    "* ask_weather_location{\"location\": \"hongkong\"}\n",
    "    - slot{\"location\": \"hongkong\"}\n",
    "    - utter_pleasant\n",
    "    - utter_did_that_help"
   ]
  },
  {
   "cell_type": "code",
   "execution_count": 47,
   "id": "divided-diameter",
   "metadata": {},
   "outputs": [
    {
     "name": "stdout",
     "output_type": "stream",
     "text": [
      "Overwriting nlu.md\n"
     ]
    }
   ],
   "source": [
    "%%writefile nlu.md\n",
    "\n",
    "## intent:greet\n",
    "- Hi\n",
    "- Hey\n",
    "- Hi bot\n",
    "- Hey bot\n",
    "- Hello\n",
    "- Good morning\n",
    "- hi again\n",
    "- hi folks\n",
    "- hola\n",
    "- hello, how are you today?\n",
    "- yo\n",
    "- hiya\n",
    "- Hello there\n",
    "- Umm, hey!\n",
    "\n",
    "## intent:goodbye\n",
    "- goodbye\n",
    "- goodnight\n",
    "- good bye\n",
    "- good night\n",
    "- see ya\n",
    "- toodle-oo\n",
    "- bye bye\n",
    "- gotta go\n",
    "- farewell\n",
    "- bye then!\n",
    "- Ok then, see ya!\n",
    "\n",
    "## intent:ask_weather_location\n",
    "- How is the weather today in [Berlin](location)?\n",
    "- How's weather in [Stuttgart](location) today?\n",
    "- What's going on [Berlin](location) today?\n",
    "- In [Prague](location)\n",
    "- at [Budapest](location)\n",
    "- [Nancy](location)\n",
    "- Tell me weather of [Dresden](location).\n",
    "- What about in [Rome](location) today?\n",
    "- Show me weather of [Venice](location)\n",
    "- How about weather in [Italy](location)\n",
    "- Sorry, in [Vatican](location)\n",
    "- Uhh, how about in [Bulgaria](location)?\n",
    "\n",
    "## intent:ask_weather\n",
    "- How's the weather today?\n",
    "- What's today's weather?\n",
    "- How is it out there today?\n",
    "- What's overall weather today?"
   ]
  },
  {
   "cell_type": "code",
   "execution_count": 48,
   "id": "further-state",
   "metadata": {},
   "outputs": [
    {
     "name": "stdout",
     "output_type": "stream",
     "text": [
      "Overwriting domain.yml\n"
     ]
    }
   ],
   "source": [
    "%%writefile domain.yml\n",
    "\n",
    "slots:\n",
    "    location:\n",
    "        type: text\n",
    "\n",
    "entities:\n",
    "- location\n",
    "\n",
    "intents:\n",
    "    - greet\n",
    "    - goodbye\n",
    "    - ask_weather_location\n",
    "    - ask_weather\n",
    "    \n",
    "responses:\n",
    "    utter_greet:\n",
    "        - text: \"Hi, how can I help you?\"\n",
    "    utter_goodbye:\n",
    "        - text: \"Glad, I could be of service, Goodbye!\"\n",
    "    utter_ask_location:\n",
    "        - text: \"In what city are you interested?\"\n",
    "    utter_did_that_help:\n",
    "        - text: \"I hope you found what you were looking for.\"\n",
    "    utter_pleasant:\n",
    "        - text: \"The weather today is pleasant, but carrying an umbrella is never a bad idea :)\""
   ]
  },
  {
   "cell_type": "code",
   "execution_count": 7,
   "id": "soviet-standard",
   "metadata": {},
   "outputs": [
    {
     "name": "stdout",
     "output_type": "stream",
     "text": [
      "Collecting git+https://github.com/deepmipt/DeepPavlov.git@feature/gobot-md-yaml-config\n",
      "  Cloning https://github.com/deepmipt/DeepPavlov.git (to revision feature/gobot-md-yaml-config) to /tmp/pip-req-build-emi6kwwo\n",
      "  Running command git clone -q https://github.com/deepmipt/DeepPavlov.git /tmp/pip-req-build-emi6kwwo\n",
      "  Running command git checkout -b feature/gobot-md-yaml-config --track origin/feature/gobot-md-yaml-config\n",
      "  Switched to a new branch 'feature/gobot-md-yaml-config'\n",
      "  Branch 'feature/gobot-md-yaml-config' set up to track remote branch 'feature/gobot-md-yaml-config' from 'origin'.\n",
      "Collecting aio-pika==6.4.1\n",
      "  Downloading aio_pika-6.4.1-py3-none-any.whl (40 kB)\n",
      "\u001b[K     |████████████████████████████████| 40 kB 2.9 kB/s ta 0:00:011\n",
      "\u001b[?25hCollecting Cython==0.29.14\n",
      "  Downloading Cython-0.29.14-cp37-cp37m-manylinux1_x86_64.whl (2.1 MB)\n",
      "\u001b[K     |████████████████████████████████| 2.1 MB 282 kB/s eta 0:00:01\n",
      "\u001b[?25hCollecting fastapi==0.47.1\n",
      "  Downloading fastapi-0.47.1-py3-none-any.whl (43 kB)\n",
      "\u001b[K     |████████████████████████████████| 43 kB 371 kB/s  eta 0:00:01\n",
      "\u001b[?25hCollecting h5py==2.10.0\n",
      "  Using cached h5py-2.10.0-cp37-cp37m-manylinux1_x86_64.whl (2.9 MB)\n",
      "Collecting nltk==3.4.5\n",
      "  Downloading nltk-3.4.5.zip (1.5 MB)\n",
      "\u001b[K     |████████████████████████████████| 1.5 MB 303 kB/s eta 0:00:01\n",
      "\u001b[?25hCollecting numpy==1.18.0\n",
      "  Downloading numpy-1.18.0-cp37-cp37m-manylinux1_x86_64.whl (20.1 MB)\n",
      "\u001b[K     |████████████████████████████████| 20.1 MB 113 kB/s eta 0:00:01\n",
      "\u001b[?25hCollecting overrides==2.7.0\n",
      "  Downloading overrides-2.7.0.tar.gz (4.5 kB)\n",
      "Collecting pandas==0.25.3\n",
      "  Downloading pandas-0.25.3-cp37-cp37m-manylinux1_x86_64.whl (10.4 MB)\n",
      "\u001b[K     |████████████████████████████████| 10.4 MB 145 kB/s eta 0:00:01\n",
      "\u001b[?25hCollecting pytz==2019.1\n",
      "  Downloading pytz-2019.1-py2.py3-none-any.whl (510 kB)\n",
      "\u001b[K     |████████████████████████████████| 510 kB 670 kB/s eta 0:00:01\n",
      "\u001b[?25hCollecting pydantic==1.3\n",
      "  Downloading pydantic-1.3-cp37-cp37m-manylinux2010_x86_64.whl (7.3 MB)\n",
      "\u001b[K     |████████████████████████████████| 7.3 MB 206 kB/s eta 0:00:01\n",
      "\u001b[?25hCollecting pymorphy2==0.8\n",
      "  Downloading pymorphy2-0.8-py2.py3-none-any.whl (46 kB)\n",
      "\u001b[K     |████████████████████████████████| 46 kB 612 kB/s  eta 0:00:01\n",
      "\u001b[?25hCollecting pymorphy2-dicts-ru\n",
      "  Downloading pymorphy2_dicts_ru-2.4.417127.4579844-py2.py3-none-any.whl (8.2 MB)\n",
      "\u001b[K     |████████████████████████████████| 8.2 MB 142 kB/s eta 0:00:01\n",
      "\u001b[?25hCollecting pyopenssl==19.1.0\n",
      "  Downloading pyOpenSSL-19.1.0-py2.py3-none-any.whl (53 kB)\n",
      "\u001b[K     |████████████████████████████████| 53 kB 316 kB/s eta 0:00:01\n",
      "\u001b[?25hCollecting pytelegrambotapi==3.6.7\n",
      "  Downloading pyTelegramBotAPI-3.6.7.tar.gz (65 kB)\n",
      "\u001b[K     |████████████████████████████████| 65 kB 362 kB/s eta 0:00:011\n",
      "\u001b[?25hCollecting requests==2.22.0\n",
      "  Using cached requests-2.22.0-py2.py3-none-any.whl (57 kB)\n",
      "Collecting ruamel.yaml==0.15.100\n",
      "  Using cached ruamel.yaml-0.15.100-cp37-cp37m-manylinux1_x86_64.whl (654 kB)\n",
      "Collecting rusenttokenize==0.0.5\n",
      "  Downloading rusenttokenize-0.0.5-py3-none-any.whl (10 kB)\n",
      "Collecting scikit-learn==0.21.2\n",
      "  Downloading scikit_learn-0.21.2-cp37-cp37m-manylinux1_x86_64.whl (6.7 MB)\n",
      "\u001b[K     |████████████████████████████████| 6.7 MB 231 kB/s eta 0:00:01\n",
      "\u001b[?25hCollecting scipy==1.4.1\n",
      "  Downloading scipy-1.4.1-cp37-cp37m-manylinux1_x86_64.whl (26.1 MB)\n",
      "\u001b[K     |████████████████████████████████| 26.1 MB 79 kB/s  eta 0:00:01\n",
      "\u001b[?25hCollecting tqdm==4.41.1\n",
      "  Downloading tqdm-4.41.1-py2.py3-none-any.whl (56 kB)\n",
      "\u001b[K     |████████████████████████████████| 56 kB 354 kB/s eta 0:00:01\n",
      "\u001b[?25hCollecting click==7.1.2\n",
      "  Using cached click-7.1.2-py2.py3-none-any.whl (82 kB)\n",
      "Collecting uvicorn==0.11.1\n",
      "  Downloading uvicorn-0.11.1-py3-none-any.whl (42 kB)\n",
      "\u001b[K     |████████████████████████████████| 42 kB 112 kB/s eta 0:00:01\n",
      "\u001b[?25hCollecting sacremoses==0.0.35\n",
      "  Downloading sacremoses-0.0.35.tar.gz (859 kB)\n",
      "\u001b[K     |████████████████████████████████| 859 kB 1.2 MB/s eta 0:00:01\n",
      "\u001b[?25hCollecting aiormq<4,>=3.2.0\n",
      "  Using cached aiormq-3.3.1-py3-none-any.whl (28 kB)\n",
      "Collecting yarl\n",
      "  Using cached yarl-1.6.3-cp37-cp37m-manylinux2014_x86_64.whl (294 kB)\n",
      "Collecting starlette<=0.12.9,>=0.12.9\n",
      "  Downloading starlette-0.12.9.tar.gz (46 kB)\n",
      "\u001b[K     |████████████████████████████████| 46 kB 514 kB/s  eta 0:00:01\n",
      "\u001b[?25hRequirement already satisfied: six in /home/abhishekbhatt/.local/share/virtualenvs/w_bot_dp-H-VDHB7Q/lib/python3.7/site-packages (from h5py==2.10.0->deeppavlov==0.11.0) (1.15.0)\n",
      "Requirement already satisfied: python-dateutil>=2.6.1 in /home/abhishekbhatt/.local/share/virtualenvs/w_bot_dp-H-VDHB7Q/lib/python3.7/site-packages (from pandas==0.25.3->deeppavlov==0.11.0) (2.8.1)\n",
      "Collecting dawg-python>=0.7\n",
      "  Downloading DAWG_Python-0.7.2-py2.py3-none-any.whl (11 kB)\n",
      "Collecting docopt>=0.6\n",
      "  Using cached docopt-0.6.2-py2.py3-none-any.whl\n",
      "Collecting pymorphy2-dicts<3.0,>=2.4\n",
      "  Downloading pymorphy2_dicts-2.4.393442.3710985-py2.py3-none-any.whl (7.1 MB)\n",
      "\u001b[K     |████████████████████████████████| 7.1 MB 1.0 MB/s eta 0:00:01\n",
      "\u001b[?25hCollecting cryptography>=2.8\n",
      "  Downloading cryptography-3.4.7-cp36-abi3-manylinux2014_x86_64.whl (3.2 MB)\n",
      "\u001b[K     |████████████████████████████████| 3.2 MB 515 kB/s eta 0:00:01\n",
      "\u001b[?25hCollecting urllib3!=1.25.0,!=1.25.1,<1.26,>=1.21.1\n",
      "  Using cached urllib3-1.25.11-py2.py3-none-any.whl (127 kB)\n",
      "Collecting idna<2.9,>=2.5\n",
      "  Using cached idna-2.8-py2.py3-none-any.whl (58 kB)\n",
      "Collecting chardet<3.1.0,>=3.0.2\n",
      "  Using cached chardet-3.0.4-py2.py3-none-any.whl (133 kB)\n",
      "Collecting certifi>=2017.4.17\n",
      "  Using cached certifi-2020.12.5-py2.py3-none-any.whl (147 kB)\n",
      "Collecting joblib\n",
      "  Using cached joblib-1.0.1-py3-none-any.whl (303 kB)\n",
      "Collecting httptools==0.0.13\n",
      "  Downloading httptools-0.0.13.tar.gz (104 kB)\n",
      "\u001b[K     |████████████████████████████████| 104 kB 7.2 MB/s eta 0:00:01\n",
      "\u001b[?25hCollecting h11<0.10,>=0.8\n",
      "  Using cached h11-0.9.0-py2.py3-none-any.whl (53 kB)\n",
      "Collecting uvloop>=0.14.0\n",
      "  Downloading uvloop-0.15.2-cp37-cp37m-manylinux2010_x86_64.whl (3.8 MB)\n",
      "\u001b[K     |████████████████████████████████| 3.8 MB 198 kB/s eta 0:00:01\n",
      "\u001b[?25hCollecting websockets==8.*\n",
      "  Downloading websockets-8.1-cp37-cp37m-manylinux2010_x86_64.whl (79 kB)\n",
      "\u001b[K     |████████████████████████████████| 79 kB 334 kB/s eta 0:00:011\n",
      "\u001b[?25hCollecting pamqp==2.3.0\n",
      "  Using cached pamqp-2.3.0-py2.py3-none-any.whl (28 kB)\n",
      "Requirement already satisfied: cffi>=1.12 in /home/abhishekbhatt/.local/share/virtualenvs/w_bot_dp-H-VDHB7Q/lib/python3.7/site-packages (from cryptography>=2.8->pyopenssl==19.1.0->deeppavlov==0.11.0) (1.14.5)\n",
      "Requirement already satisfied: pycparser in /home/abhishekbhatt/.local/share/virtualenvs/w_bot_dp-H-VDHB7Q/lib/python3.7/site-packages (from cffi>=1.12->cryptography>=2.8->pyopenssl==19.1.0->deeppavlov==0.11.0) (2.20)\n",
      "Collecting multidict>=4.0\n",
      "  Downloading multidict-5.1.0-cp37-cp37m-manylinux2014_x86_64.whl (142 kB)\n",
      "\u001b[K     |████████████████████████████████| 142 kB 526 kB/s eta 0:00:01\n",
      "\u001b[?25hRequirement already satisfied: typing-extensions>=3.7.4 in /home/abhishekbhatt/.local/share/virtualenvs/w_bot_dp-H-VDHB7Q/lib/python3.7/site-packages (from yarl->aio-pika==6.4.1->deeppavlov==0.11.0) (3.7.4.3)\n",
      "Building wheels for collected packages: deeppavlov, nltk, overrides, pytelegrambotapi, sacremoses, httptools, starlette\n",
      "  Building wheel for deeppavlov (setup.py) ... \u001b[?25ldone\n",
      "\u001b[?25h  Created wheel for deeppavlov: filename=deeppavlov-0.11.0-py3-none-any.whl size=854037 sha256=10e73a9318f888205b4778aa2eebb5f24e55739d3c9b70c801b3c4186145748e\n",
      "  Stored in directory: /tmp/pip-ephem-wheel-cache-ez1w9_32/wheels/57/e7/d4/46c30a619b74f12f1da35819eb67516a6ce66e0187e95981c8\n",
      "  Building wheel for nltk (setup.py) ... \u001b[?25ldone\n",
      "\u001b[?25h  Created wheel for nltk: filename=nltk-3.4.5-py3-none-any.whl size=1449909 sha256=cb19ba9f1058d942724d708daec6cda390c8e94f2832e3dc18ec79cd5753dad0\n",
      "  Stored in directory: /home/abhishekbhatt/.cache/pip/wheels/48/8b/7f/473521e0c731c6566d631b281f323842bbda9bd819eb9a3ead\n",
      "  Building wheel for overrides (setup.py) ... \u001b[?25ldone\n",
      "\u001b[?25h  Created wheel for overrides: filename=overrides-2.7.0-py3-none-any.whl size=5599 sha256=89ad9ba11db8ff038c0eae9031e7d3bc1e28f9eb4cc0e1fc04da5b087511bc75\n",
      "  Stored in directory: /home/abhishekbhatt/.cache/pip/wheels/c9/87/45/bfdacf6c3b8233b6e8d519edcbd1cf297ad5ff5f0bf84bb9c1\n"
     ]
    },
    {
     "name": "stdout",
     "output_type": "stream",
     "text": [
      "  Building wheel for pytelegrambotapi (setup.py) ... \u001b[?25ldone\n",
      "\u001b[?25h  Created wheel for pytelegrambotapi: filename=pyTelegramBotAPI-3.6.7-py3-none-any.whl size=47176 sha256=6ce9e4e9f9d5d95026a499c7009ccee20232ce99f08232005313318839d6205c\n",
      "  Stored in directory: /home/abhishekbhatt/.cache/pip/wheels/7f/7c/54/8eddf2369ef1b9190e2ee6dc2b40df54b6c65529a38790fdd4\n",
      "  Building wheel for sacremoses (setup.py) ... \u001b[?25ldone\n",
      "\u001b[?25h  Created wheel for sacremoses: filename=sacremoses-0.0.35-py3-none-any.whl size=883999 sha256=2b4f2412620ada6f1b66302593703f0b723259409054bb59165998215f8d16f3\n",
      "  Stored in directory: /home/abhishekbhatt/.cache/pip/wheels/d1/ff/0e/e00ff1e22100702ac8b24e709551ae0fb29db9ffc843510a64\n",
      "  Building wheel for httptools (setup.py) ... \u001b[?25ldone\n",
      "\u001b[?25h  Created wheel for httptools: filename=httptools-0.0.13-cp37-cp37m-linux_x86_64.whl size=213175 sha256=cb0488060c8eda3df987ccfd274aaf14023f4b94b9028df59a19efbe3b5a90fb\n",
      "  Stored in directory: /home/abhishekbhatt/.cache/pip/wheels/4d/38/a5/408313d5d2f8abeb45df005a7780bd7e7a42bf6a46d434dd6a\n",
      "  Building wheel for starlette (setup.py) ... \u001b[?25ldone\n",
      "\u001b[?25h  Created wheel for starlette: filename=starlette-0.12.9-py3-none-any.whl size=57241 sha256=bb9d6f55915aa29f9fb178d526d135e969c7522a92e06b8f4ad399a863f76e70\n",
      "  Stored in directory: /home/abhishekbhatt/.cache/pip/wheels/e8/78/be/f57ed5aed7cd222abdb24e3186b5c9f1074184fcc0a295102b\n",
      "Successfully built deeppavlov nltk overrides pytelegrambotapi sacremoses httptools starlette\n",
      "Installing collected packages: multidict, idna, yarl, urllib3, pamqp, numpy, chardet, certifi, websockets, uvloop, tqdm, starlette, scipy, requests, pytz, pymorphy2-dicts, pydantic, joblib, httptools, h11, docopt, dawg-python, cryptography, click, aiormq, uvicorn, scikit-learn, sacremoses, rusenttokenize, ruamel.yaml, pytelegrambotapi, pyopenssl, pymorphy2-dicts-ru, pymorphy2, pandas, overrides, nltk, h5py, fastapi, Cython, aio-pika, deeppavlov\n",
      "Successfully installed Cython-0.29.14 aio-pika-6.4.1 aiormq-3.3.1 certifi-2020.12.5 chardet-3.0.4 click-7.1.2 cryptography-3.4.7 dawg-python-0.7.2 deeppavlov-0.11.0 docopt-0.6.2 fastapi-0.47.1 h11-0.9.0 h5py-2.10.0 httptools-0.0.13 idna-2.8 joblib-1.0.1 multidict-5.1.0 nltk-3.4.5 numpy-1.18.0 overrides-2.7.0 pamqp-2.3.0 pandas-0.25.3 pydantic-1.3 pymorphy2-0.8 pymorphy2-dicts-2.4.393442.3710985 pymorphy2-dicts-ru-2.4.417127.4579844 pyopenssl-19.1.0 pytelegrambotapi-3.6.7 pytz-2019.1 requests-2.22.0 ruamel.yaml-0.15.100 rusenttokenize-0.0.5 sacremoses-0.0.35 scikit-learn-0.21.2 scipy-1.4.1 starlette-0.12.9 tqdm-4.41.1 urllib3-1.25.11 uvicorn-0.11.1 uvloop-0.15.2 websockets-8.1 yarl-1.6.3\n",
      "2021-03-27 16:17:48.242 INFO in 'deeppavlov.core.common.file'['file'] at line 32: Interpreting 'gobot_simple_dstc2' as '/home/abhishekbhatt/.local/share/virtualenvs/w_bot_dp-H-VDHB7Q/lib/python3.7/site-packages/deeppavlov/configs/go_bot/gobot_simple_dstc2.json'\n",
      "Collecting en_core_web_sm==2.2.5\n",
      "  Downloading https://github.com/explosion/spacy-models/releases/download/en_core_web_sm-2.2.5/en_core_web_sm-2.2.5.tar.gz (12.0 MB)\n",
      "\u001b[K     |████████████████████████████████| 12.0 MB 1.1 MB/s eta 0:00:01\n",
      "\u001b[?25hCollecting spacy>=2.2.2\n",
      "  Downloading spacy-3.0.5-cp37-cp37m-manylinux2014_x86_64.whl (12.8 MB)\n",
      "\u001b[K     |████████████████████████████████| 12.8 MB 158 kB/s eta 0:00:01\n",
      "\u001b[?25hCollecting blis<0.8.0,>=0.4.0\n",
      "  Downloading blis-0.7.4-cp37-cp37m-manylinux2014_x86_64.whl (9.8 MB)\n",
      "\u001b[K     |████████████████████████████████| 9.8 MB 297 kB/s eta 0:00:01\n",
      "\u001b[?25hCollecting pathy>=0.3.5\n",
      "  Downloading pathy-0.4.0-py3-none-any.whl (36 kB)\n",
      "Collecting srsly<3.0.0,>=2.4.0\n",
      "  Downloading srsly-2.4.0-cp37-cp37m-manylinux2014_x86_64.whl (456 kB)\n",
      "\u001b[K     |████████████████████████████████| 456 kB 1.4 MB/s eta 0:00:01\n",
      "\u001b[?25hCollecting cymem<2.1.0,>=2.0.2\n",
      "  Using cached cymem-2.0.5-cp37-cp37m-manylinux2014_x86_64.whl (35 kB)\n",
      "Collecting catalogue<2.1.0,>=2.0.1\n",
      "  Downloading catalogue-2.0.1-py3-none-any.whl (9.6 kB)\n",
      "Collecting thinc<8.1.0,>=8.0.2\n",
      "  Downloading thinc-8.0.2-cp37-cp37m-manylinux2014_x86_64.whl (1.1 MB)\n",
      "\u001b[K     |████████████████████████████████| 1.1 MB 971 kB/s eta 0:00:01\n",
      "\u001b[?25hCollecting typer<0.4.0,>=0.3.0\n",
      "  Downloading typer-0.3.2-py3-none-any.whl (21 kB)\n",
      "Collecting pydantic<1.8.0,>=1.7.1\n",
      "  Downloading pydantic-1.7.3-cp37-cp37m-manylinux2014_x86_64.whl (9.1 MB)\n",
      "\u001b[K     |████████████████████████████████| 9.1 MB 273 kB/s eta 0:00:01\n",
      "\u001b[?25hRequirement already satisfied: numpy>=1.15.0 in /home/abhishekbhatt/.local/share/virtualenvs/w_bot_dp-H-VDHB7Q/lib/python3.7/site-packages (from spacy>=2.2.2->en_core_web_sm==2.2.5) (1.18.0)\n",
      "Requirement already satisfied: requests<3.0.0,>=2.13.0 in /home/abhishekbhatt/.local/share/virtualenvs/w_bot_dp-H-VDHB7Q/lib/python3.7/site-packages (from spacy>=2.2.2->en_core_web_sm==2.2.5) (2.22.0)\n",
      "Requirement already satisfied: packaging>=20.0 in /home/abhishekbhatt/.local/share/virtualenvs/w_bot_dp-H-VDHB7Q/lib/python3.7/site-packages (from spacy>=2.2.2->en_core_web_sm==2.2.5) (20.9)\n",
      "Requirement already satisfied: typing-extensions<4.0.0.0,>=3.7.4 in /home/abhishekbhatt/.local/share/virtualenvs/w_bot_dp-H-VDHB7Q/lib/python3.7/site-packages (from spacy>=2.2.2->en_core_web_sm==2.2.5) (3.7.4.3)\n",
      "Requirement already satisfied: importlib-metadata>=0.20 in /home/abhishekbhatt/.local/share/virtualenvs/w_bot_dp-H-VDHB7Q/lib/python3.7/site-packages (from spacy>=2.2.2->en_core_web_sm==2.2.5) (3.8.0)\n",
      "Requirement already satisfied: tqdm<5.0.0,>=4.38.0 in /home/abhishekbhatt/.local/share/virtualenvs/w_bot_dp-H-VDHB7Q/lib/python3.7/site-packages (from spacy>=2.2.2->en_core_web_sm==2.2.5) (4.41.1)\n",
      "Collecting preshed<3.1.0,>=3.0.2\n",
      "  Downloading preshed-3.0.5-cp37-cp37m-manylinux2014_x86_64.whl (126 kB)\n",
      "\u001b[K     |████████████████████████████████| 126 kB 2.4 MB/s eta 0:00:01\n",
      "\u001b[?25hRequirement already satisfied: jinja2 in /home/abhishekbhatt/.local/share/virtualenvs/w_bot_dp-H-VDHB7Q/lib/python3.7/site-packages (from spacy>=2.2.2->en_core_web_sm==2.2.5) (2.11.3)\n",
      "Collecting wasabi<1.1.0,>=0.8.1\n",
      "  Downloading wasabi-0.8.2-py3-none-any.whl (23 kB)\n",
      "Collecting murmurhash<1.1.0,>=0.28.0\n",
      "  Using cached murmurhash-1.0.5-cp37-cp37m-manylinux2014_x86_64.whl (20 kB)\n",
      "Collecting spacy-legacy<3.1.0,>=3.0.0\n",
      "  Downloading spacy_legacy-3.0.1-py2.py3-none-any.whl (7.0 kB)\n",
      "Requirement already satisfied: setuptools in /home/abhishekbhatt/.local/share/virtualenvs/w_bot_dp-H-VDHB7Q/lib/python3.7/site-packages (from spacy>=2.2.2->en_core_web_sm==2.2.5) (54.1.2)\n",
      "Requirement already satisfied: zipp>=0.5 in /home/abhishekbhatt/.local/share/virtualenvs/w_bot_dp-H-VDHB7Q/lib/python3.7/site-packages (from importlib-metadata>=0.20->spacy>=2.2.2->en_core_web_sm==2.2.5) (3.4.1)\n",
      "Requirement already satisfied: pyparsing>=2.0.2 in /home/abhishekbhatt/.local/share/virtualenvs/w_bot_dp-H-VDHB7Q/lib/python3.7/site-packages (from packaging>=20.0->spacy>=2.2.2->en_core_web_sm==2.2.5) (2.4.7)\n",
      "Collecting smart-open<4.0.0,>=2.2.0\n",
      "  Downloading smart_open-3.0.0.tar.gz (113 kB)\n",
      "\u001b[K     |████████████████████████████████| 113 kB 2.3 MB/s eta 0:00:01\n",
      "\u001b[?25hRequirement already satisfied: chardet<3.1.0,>=3.0.2 in /home/abhishekbhatt/.local/share/virtualenvs/w_bot_dp-H-VDHB7Q/lib/python3.7/site-packages (from requests<3.0.0,>=2.13.0->spacy>=2.2.2->en_core_web_sm==2.2.5) (3.0.4)\n",
      "Requirement already satisfied: urllib3!=1.25.0,!=1.25.1,<1.26,>=1.21.1 in /home/abhishekbhatt/.local/share/virtualenvs/w_bot_dp-H-VDHB7Q/lib/python3.7/site-packages (from requests<3.0.0,>=2.13.0->spacy>=2.2.2->en_core_web_sm==2.2.5) (1.25.11)\n",
      "Requirement already satisfied: idna<2.9,>=2.5 in /home/abhishekbhatt/.local/share/virtualenvs/w_bot_dp-H-VDHB7Q/lib/python3.7/site-packages (from requests<3.0.0,>=2.13.0->spacy>=2.2.2->en_core_web_sm==2.2.5) (2.8)\n",
      "Requirement already satisfied: certifi>=2017.4.17 in /home/abhishekbhatt/.local/share/virtualenvs/w_bot_dp-H-VDHB7Q/lib/python3.7/site-packages (from requests<3.0.0,>=2.13.0->spacy>=2.2.2->en_core_web_sm==2.2.5) (2020.12.5)\n",
      "Requirement already satisfied: click<7.2.0,>=7.1.1 in /home/abhishekbhatt/.local/share/virtualenvs/w_bot_dp-H-VDHB7Q/lib/python3.7/site-packages (from typer<0.4.0,>=0.3.0->spacy>=2.2.2->en_core_web_sm==2.2.5) (7.1.2)\n",
      "Requirement already satisfied: MarkupSafe>=0.23 in /home/abhishekbhatt/.local/share/virtualenvs/w_bot_dp-H-VDHB7Q/lib/python3.7/site-packages (from jinja2->spacy>=2.2.2->en_core_web_sm==2.2.5) (1.1.1)\n"
     ]
    },
    {
     "name": "stdout",
     "output_type": "stream",
     "text": [
      "Building wheels for collected packages: en-core-web-sm, smart-open\n",
      "  Building wheel for en-core-web-sm (setup.py) ... \u001b[?25ldone\n",
      "\u001b[?25h  Created wheel for en-core-web-sm: filename=en_core_web_sm-2.2.5-py3-none-any.whl size=12011738 sha256=6316e0d01421c8e377102904f40f3be25ec72cc2374fb3a1b67f16f640938c4b\n",
      "  Stored in directory: /home/abhishekbhatt/.cache/pip/wheels/51/19/da/a3885266a3c241aff0ad2eb674ae058fd34a4870fef1c0a5a0\n",
      "  Building wheel for smart-open (setup.py) ... \u001b[?25ldone\n",
      "\u001b[?25h  Created wheel for smart-open: filename=smart_open-3.0.0-py3-none-any.whl size=107097 sha256=6b81735112d9d79c80271abf11e3e23f24883f8e5f306452ba518056f9735b26\n",
      "  Stored in directory: /home/abhishekbhatt/.cache/pip/wheels/83/a6/12/bf3c1a667bde4251be5b7a3368b2d604c9af2105b5c1cb1870\n",
      "Successfully built en-core-web-sm smart-open\n",
      "Installing collected packages: murmurhash, cymem, catalogue, wasabi, typer, srsly, smart-open, pydantic, preshed, blis, thinc, spacy-legacy, pathy, spacy, en-core-web-sm\n",
      "  Attempting uninstall: pydantic\n",
      "    Found existing installation: pydantic 1.3\n",
      "    Uninstalling pydantic-1.3:\n",
      "      Successfully uninstalled pydantic-1.3\n",
      "\u001b[31mERROR: pip's dependency resolver does not currently take into account all the packages that are installed. This behaviour is the source of the following dependency conflicts.\n",
      "deeppavlov 0.11.0 requires pydantic==1.3, but you have pydantic 1.7.3 which is incompatible.\u001b[0m\n",
      "Successfully installed blis-0.7.4 catalogue-2.0.1 cymem-2.0.5 en-core-web-sm-2.2.5 murmurhash-1.0.5 pathy-0.4.0 preshed-3.0.5 pydantic-1.7.3 smart-open-3.0.0 spacy-3.0.5 spacy-legacy-3.0.1 srsly-2.4.0 thinc-8.0.2 typer-0.3.2 wasabi-0.8.2\n",
      "Collecting gensim==3.8.1\n",
      "  Downloading gensim-3.8.1-cp37-cp37m-manylinux1_x86_64.whl (24.2 MB)\n",
      "\u001b[K     |████████████████████████████████| 24.2 MB 149 kB/s eta 0:00:01\n",
      "\u001b[?25hRequirement already satisfied: numpy>=1.11.3 in /home/abhishekbhatt/.local/share/virtualenvs/w_bot_dp-H-VDHB7Q/lib/python3.7/site-packages (from gensim==3.8.1) (1.18.0)\n",
      "Requirement already satisfied: smart-open>=1.8.1 in /home/abhishekbhatt/.local/share/virtualenvs/w_bot_dp-H-VDHB7Q/lib/python3.7/site-packages (from gensim==3.8.1) (3.0.0)\n",
      "Requirement already satisfied: scipy>=0.18.1 in /home/abhishekbhatt/.local/share/virtualenvs/w_bot_dp-H-VDHB7Q/lib/python3.7/site-packages (from gensim==3.8.1) (1.4.1)\n",
      "Requirement already satisfied: six>=1.5.0 in /home/abhishekbhatt/.local/share/virtualenvs/w_bot_dp-H-VDHB7Q/lib/python3.7/site-packages (from gensim==3.8.1) (1.15.0)\n",
      "Requirement already satisfied: requests in /home/abhishekbhatt/.local/share/virtualenvs/w_bot_dp-H-VDHB7Q/lib/python3.7/site-packages (from smart-open>=1.8.1->gensim==3.8.1) (2.22.0)\n",
      "Requirement already satisfied: certifi>=2017.4.17 in /home/abhishekbhatt/.local/share/virtualenvs/w_bot_dp-H-VDHB7Q/lib/python3.7/site-packages (from requests->smart-open>=1.8.1->gensim==3.8.1) (2020.12.5)\n",
      "Requirement already satisfied: chardet<3.1.0,>=3.0.2 in /home/abhishekbhatt/.local/share/virtualenvs/w_bot_dp-H-VDHB7Q/lib/python3.7/site-packages (from requests->smart-open>=1.8.1->gensim==3.8.1) (3.0.4)\n",
      "Requirement already satisfied: urllib3!=1.25.0,!=1.25.1,<1.26,>=1.21.1 in /home/abhishekbhatt/.local/share/virtualenvs/w_bot_dp-H-VDHB7Q/lib/python3.7/site-packages (from requests->smart-open>=1.8.1->gensim==3.8.1) (1.25.11)\n",
      "Requirement already satisfied: idna<2.9,>=2.5 in /home/abhishekbhatt/.local/share/virtualenvs/w_bot_dp-H-VDHB7Q/lib/python3.7/site-packages (from requests->smart-open>=1.8.1->gensim==3.8.1) (2.8)\n",
      "Installing collected packages: gensim\n",
      "Successfully installed gensim-3.8.1\n",
      "Collecting rapidfuzz==0.7.6\n",
      "  Downloading rapidfuzz-0.7.6-cp37-cp37m-manylinux2010_x86_64.whl (692 kB)\n",
      "\u001b[K     |████████████████████████████████| 692 kB 143 kB/s eta 0:00:01\n",
      "\u001b[?25hInstalling collected packages: rapidfuzz\n",
      "Successfully installed rapidfuzz-0.7.6\n",
      "Collecting spacy==2.2.3\n",
      "  Downloading spacy-2.2.3-cp37-cp37m-manylinux1_x86_64.whl (10.4 MB)\n",
      "\u001b[K     |████████████████████████████████| 10.4 MB 159 kB/s eta 0:00:01\n",
      "\u001b[?25hRequirement already satisfied: setuptools in /home/abhishekbhatt/.local/share/virtualenvs/w_bot_dp-H-VDHB7Q/lib/python3.7/site-packages (from spacy==2.2.3) (54.1.2)\n",
      "Requirement already satisfied: requests<3.0.0,>=2.13.0 in /home/abhishekbhatt/.local/share/virtualenvs/w_bot_dp-H-VDHB7Q/lib/python3.7/site-packages (from spacy==2.2.3) (2.22.0)\n",
      "Requirement already satisfied: numpy>=1.15.0 in /home/abhishekbhatt/.local/share/virtualenvs/w_bot_dp-H-VDHB7Q/lib/python3.7/site-packages (from spacy==2.2.3) (1.18.0)\n",
      "Requirement already satisfied: wasabi<1.1.0,>=0.4.0 in /home/abhishekbhatt/.local/share/virtualenvs/w_bot_dp-H-VDHB7Q/lib/python3.7/site-packages (from spacy==2.2.3) (0.8.2)\n",
      "Requirement already satisfied: preshed<3.1.0,>=3.0.2 in /home/abhishekbhatt/.local/share/virtualenvs/w_bot_dp-H-VDHB7Q/lib/python3.7/site-packages (from spacy==2.2.3) (3.0.5)\n",
      "Requirement already satisfied: cymem<2.1.0,>=2.0.2 in /home/abhishekbhatt/.local/share/virtualenvs/w_bot_dp-H-VDHB7Q/lib/python3.7/site-packages (from spacy==2.2.3) (2.0.5)\n",
      "Collecting thinc<7.4.0,>=7.3.0\n",
      "  Downloading thinc-7.3.1-cp37-cp37m-manylinux1_x86_64.whl (2.2 MB)\n",
      "\u001b[K     |████████████████████████████████| 2.2 MB 673 kB/s eta 0:00:01\n",
      "\u001b[?25hCollecting plac<1.2.0,>=0.9.6\n",
      "  Downloading plac-1.1.3-py2.py3-none-any.whl (20 kB)\n",
      "Collecting catalogue<1.1.0,>=0.0.7\n",
      "  Downloading catalogue-1.0.0-py2.py3-none-any.whl (7.7 kB)\n",
      "Collecting srsly<1.1.0,>=0.1.0\n",
      "  Downloading srsly-1.0.5-cp37-cp37m-manylinux2014_x86_64.whl (184 kB)\n",
      "\u001b[K     |████████████████████████████████| 184 kB 3.9 MB/s eta 0:00:01\n",
      "\u001b[?25hCollecting blis<0.5.0,>=0.4.0\n",
      "  Downloading blis-0.4.1-cp37-cp37m-manylinux1_x86_64.whl (3.7 MB)\n",
      "\u001b[K     |████████████████████████████████| 3.7 MB 1.2 MB/s eta 0:00:01\n",
      "\u001b[?25hRequirement already satisfied: murmurhash<1.1.0,>=0.28.0 in /home/abhishekbhatt/.local/share/virtualenvs/w_bot_dp-H-VDHB7Q/lib/python3.7/site-packages (from spacy==2.2.3) (1.0.5)\n",
      "Requirement already satisfied: importlib-metadata>=0.20 in /home/abhishekbhatt/.local/share/virtualenvs/w_bot_dp-H-VDHB7Q/lib/python3.7/site-packages (from catalogue<1.1.0,>=0.0.7->spacy==2.2.3) (3.8.0)\n",
      "Requirement already satisfied: zipp>=0.5 in /home/abhishekbhatt/.local/share/virtualenvs/w_bot_dp-H-VDHB7Q/lib/python3.7/site-packages (from importlib-metadata>=0.20->catalogue<1.1.0,>=0.0.7->spacy==2.2.3) (3.4.1)\n",
      "Requirement already satisfied: typing-extensions>=3.6.4 in /home/abhishekbhatt/.local/share/virtualenvs/w_bot_dp-H-VDHB7Q/lib/python3.7/site-packages (from importlib-metadata>=0.20->catalogue<1.1.0,>=0.0.7->spacy==2.2.3) (3.7.4.3)\n",
      "Requirement already satisfied: idna<2.9,>=2.5 in /home/abhishekbhatt/.local/share/virtualenvs/w_bot_dp-H-VDHB7Q/lib/python3.7/site-packages (from requests<3.0.0,>=2.13.0->spacy==2.2.3) (2.8)\n",
      "Requirement already satisfied: chardet<3.1.0,>=3.0.2 in /home/abhishekbhatt/.local/share/virtualenvs/w_bot_dp-H-VDHB7Q/lib/python3.7/site-packages (from requests<3.0.0,>=2.13.0->spacy==2.2.3) (3.0.4)\n",
      "Requirement already satisfied: urllib3!=1.25.0,!=1.25.1,<1.26,>=1.21.1 in /home/abhishekbhatt/.local/share/virtualenvs/w_bot_dp-H-VDHB7Q/lib/python3.7/site-packages (from requests<3.0.0,>=2.13.0->spacy==2.2.3) (1.25.11)\n",
      "Requirement already satisfied: certifi>=2017.4.17 in /home/abhishekbhatt/.local/share/virtualenvs/w_bot_dp-H-VDHB7Q/lib/python3.7/site-packages (from requests<3.0.0,>=2.13.0->spacy==2.2.3) (2020.12.5)\n",
      "Requirement already satisfied: tqdm<5.0.0,>=4.10.0 in /home/abhishekbhatt/.local/share/virtualenvs/w_bot_dp-H-VDHB7Q/lib/python3.7/site-packages (from thinc<7.4.0,>=7.3.0->spacy==2.2.3) (4.41.1)\n",
      "Installing collected packages: srsly, plac, blis, thinc, catalogue, spacy\n",
      "  Attempting uninstall: srsly\n",
      "    Found existing installation: srsly 2.4.0\n",
      "    Uninstalling srsly-2.4.0:\n",
      "      Successfully uninstalled srsly-2.4.0\n",
      "  Attempting uninstall: blis\n",
      "    Found existing installation: blis 0.7.4\n",
      "    Uninstalling blis-0.7.4:\n",
      "      Successfully uninstalled blis-0.7.4\n",
      "  Attempting uninstall: thinc\n",
      "    Found existing installation: thinc 8.0.2\n",
      "    Uninstalling thinc-8.0.2:\n",
      "      Successfully uninstalled thinc-8.0.2\n",
      "  Attempting uninstall: catalogue\n",
      "    Found existing installation: catalogue 2.0.1\n",
      "    Uninstalling catalogue-2.0.1:\n"
     ]
    },
    {
     "name": "stdout",
     "output_type": "stream",
     "text": [
      "      Successfully uninstalled catalogue-2.0.1\n",
      "  Attempting uninstall: spacy\n",
      "    Found existing installation: spacy 3.0.5\n",
      "    Uninstalling spacy-3.0.5:\n",
      "      Successfully uninstalled spacy-3.0.5\n",
      "Successfully installed blis-0.4.1 catalogue-1.0.0 plac-1.1.3 spacy-2.2.3 srsly-1.0.5 thinc-7.3.1\n",
      "Collecting tensorflow==1.15.2\n",
      "  Downloading tensorflow-1.15.2-cp37-cp37m-manylinux2010_x86_64.whl (110.5 MB)\n",
      "\u001b[K     |████████████████████████████████| 110.5 MB 18 kB/s  eta 0:00:01   |█                               | 3.6 MB 242 kB/s eta 0:07:20\n",
      "\u001b[?25hCollecting gast==0.2.2\n",
      "  Downloading gast-0.2.2.tar.gz (10 kB)\n",
      "\u001b[33mWARNING: Retrying (Retry(total=4, connect=None, read=None, redirect=None, status=None)) after connection broken by 'ProtocolError('Connection aborted.', ConnectionResetError(104, 'Connection reset by peer'))': /simple/protobuf/\u001b[0m\n",
      "Collecting protobuf>=3.6.1\n",
      "  Using cached protobuf-3.15.6-cp37-cp37m-manylinux1_x86_64.whl (1.0 MB)\n",
      "Requirement already satisfied: numpy<2.0,>=1.16.0 in /home/abhishekbhatt/.local/share/virtualenvs/w_bot_dp-H-VDHB7Q/lib/python3.7/site-packages (from tensorflow==1.15.2) (1.18.0)\n",
      "Collecting absl-py>=0.7.0\n",
      "  Using cached absl_py-0.12.0-py3-none-any.whl (129 kB)\n",
      "Collecting keras-applications>=1.0.8\n",
      "  Using cached Keras_Applications-1.0.8-py3-none-any.whl (50 kB)\n",
      "Collecting opt-einsum>=2.3.2\n",
      "  Using cached opt_einsum-3.3.0-py3-none-any.whl (65 kB)\n",
      "Collecting google-pasta>=0.1.6\n",
      "  Using cached google_pasta-0.2.0-py3-none-any.whl (57 kB)\n",
      "Collecting astor>=0.6.0\n",
      "  Using cached astor-0.8.1-py2.py3-none-any.whl (27 kB)\n",
      "Requirement already satisfied: six>=1.10.0 in /home/abhishekbhatt/.local/share/virtualenvs/w_bot_dp-H-VDHB7Q/lib/python3.7/site-packages (from tensorflow==1.15.2) (1.15.0)\n",
      "Collecting tensorboard<1.16.0,>=1.15.0\n",
      "  Downloading tensorboard-1.15.0-py3-none-any.whl (3.8 MB)\n",
      "\u001b[K     |████████████████████████████████| 3.8 MB 419 kB/s eta 0:00:01\n",
      "\u001b[?25hCollecting grpcio>=1.8.6\n",
      "  Using cached grpcio-1.36.1-cp37-cp37m-manylinux2014_x86_64.whl (4.1 MB)\n",
      "Collecting wrapt>=1.11.1\n",
      "  Using cached wrapt-1.12.1.tar.gz (27 kB)\n",
      "Requirement already satisfied: wheel>=0.26 in /home/abhishekbhatt/.local/share/virtualenvs/w_bot_dp-H-VDHB7Q/lib/python3.7/site-packages (from tensorflow==1.15.2) (0.36.2)\n",
      "Collecting termcolor>=1.1.0\n",
      "  Using cached termcolor-1.1.0-py3-none-any.whl\n",
      "Collecting tensorflow-estimator==1.15.1\n",
      "  Downloading tensorflow_estimator-1.15.1-py2.py3-none-any.whl (503 kB)\n",
      "\u001b[K     |████████████████████████████████| 503 kB 556 kB/s eta 0:00:01\n",
      "\u001b[?25hCollecting keras-preprocessing>=1.0.5\n",
      "  Using cached Keras_Preprocessing-1.1.2-py2.py3-none-any.whl (42 kB)\n",
      "Requirement already satisfied: h5py in /home/abhishekbhatt/.local/share/virtualenvs/w_bot_dp-H-VDHB7Q/lib/python3.7/site-packages (from keras-applications>=1.0.8->tensorflow==1.15.2) (2.10.0)\n",
      "Collecting werkzeug>=0.11.15\n",
      "  Using cached Werkzeug-1.0.1-py2.py3-none-any.whl (298 kB)\n",
      "Requirement already satisfied: setuptools>=41.0.0 in /home/abhishekbhatt/.local/share/virtualenvs/w_bot_dp-H-VDHB7Q/lib/python3.7/site-packages (from tensorboard<1.16.0,>=1.15.0->tensorflow==1.15.2) (54.1.2)\n",
      "Collecting markdown>=2.6.8\n",
      "  Using cached Markdown-3.3.4-py3-none-any.whl (97 kB)\n",
      "Requirement already satisfied: importlib-metadata in /home/abhishekbhatt/.local/share/virtualenvs/w_bot_dp-H-VDHB7Q/lib/python3.7/site-packages (from markdown>=2.6.8->tensorboard<1.16.0,>=1.15.0->tensorflow==1.15.2) (3.8.0)\n",
      "Requirement already satisfied: typing-extensions>=3.6.4 in /home/abhishekbhatt/.local/share/virtualenvs/w_bot_dp-H-VDHB7Q/lib/python3.7/site-packages (from importlib-metadata->markdown>=2.6.8->tensorboard<1.16.0,>=1.15.0->tensorflow==1.15.2) (3.7.4.3)\n",
      "Requirement already satisfied: zipp>=0.5 in /home/abhishekbhatt/.local/share/virtualenvs/w_bot_dp-H-VDHB7Q/lib/python3.7/site-packages (from importlib-metadata->markdown>=2.6.8->tensorboard<1.16.0,>=1.15.0->tensorflow==1.15.2) (3.4.1)\n",
      "Building wheels for collected packages: gast, wrapt\n",
      "  Building wheel for gast (setup.py) ... \u001b[?25ldone\n",
      "\u001b[?25h  Created wheel for gast: filename=gast-0.2.2-py3-none-any.whl size=7538 sha256=ea67a260ce18b6211568dc0bf84f0fe11c57dceb0e864fe0c0f06327319a0982\n",
      "  Stored in directory: /home/abhishekbhatt/.cache/pip/wheels/21/7f/02/420f32a803f7d0967b48dd823da3f558c5166991bfd204eef3\n",
      "  Building wheel for wrapt (setup.py) ... \u001b[?25ldone\n",
      "\u001b[?25h  Created wheel for wrapt: filename=wrapt-1.12.1-cp37-cp37m-linux_x86_64.whl size=71036 sha256=5e91d35aef9953f9b8f8a9ad63ab59367cf31b8ee667e1f94f89db7228faeaac\n",
      "  Stored in directory: /home/abhishekbhatt/.cache/pip/wheels/62/76/4c/aa25851149f3f6d9785f6c869387ad82b3fd37582fa8147ac6\n",
      "Successfully built gast wrapt\n",
      "Installing collected packages: werkzeug, protobuf, markdown, grpcio, absl-py, wrapt, termcolor, tensorflow-estimator, tensorboard, opt-einsum, keras-preprocessing, keras-applications, google-pasta, gast, astor, tensorflow\n",
      "Successfully installed absl-py-0.12.0 astor-0.8.1 gast-0.2.2 google-pasta-0.2.0 grpcio-1.36.1 keras-applications-1.0.8 keras-preprocessing-1.1.2 markdown-3.3.4 opt-einsum-3.3.0 protobuf-3.15.6 tensorboard-1.15.0 tensorflow-1.15.2 tensorflow-estimator-1.15.1 termcolor-1.1.0 werkzeug-1.0.1 wrapt-1.12.1\n"
     ]
    }
   ],
   "source": [
    "!pip install git+https://github.com/deepmipt/DeepPavlov.git@feature/gobot-md-yaml-config\n",
    "!python -m deeppavlov install gobot_simple_dstc2"
   ]
  },
  {
   "cell_type": "code",
   "execution_count": 49,
   "id": "blond-memory",
   "metadata": {},
   "outputs": [],
   "source": [
    "from deeppavlov import configs\n",
    "from deeppavlov.core.common.file import read_json\n",
    "\n",
    "\n",
    "gobot_config = read_json(configs.go_bot.gobot_md_yaml_minimal)\n",
    "\n",
    "gobot_config['metadata']['variables']['DATA_PATH'] = '.'\n",
    "gobot_config['metadata']['variables']['MODEL_PATH'] = '.'"
   ]
  },
  {
   "cell_type": "code",
   "execution_count": 50,
   "id": "hungarian-rebound",
   "metadata": {},
   "outputs": [],
   "source": [
    "!cp stories.md stories-trn.md\n",
    "!cp stories.md stories-tst.md \n",
    "!cp stories.md stories-val.md"
   ]
  },
  {
   "cell_type": "code",
   "execution_count": 51,
   "id": "scenic-animal",
   "metadata": {
    "scrolled": false
   },
   "outputs": [
    {
     "name": "stderr",
     "output_type": "stream",
     "text": [
      "2021-03-28 00:06:27.806 INFO in 'deeppavlov.core.data.utils'['utils'] at line 94: Downloading from http://files.deeppavlov.ai/datasets/gobot_md_yaml_minimal.tar.gz to /home/abhishekbhatt/Documents/gobot_md_yaml_minimal.tar.gz\n",
      "100%|██████████| 528/528 [00:00<00:00, 101kB/s]\n",
      "2021-03-28 00:06:31.15 INFO in 'deeppavlov.core.data.utils'['utils'] at line 269: Extracting /home/abhishekbhatt/Documents/gobot_md_yaml_minimal.tar.gz archive into /home/abhishekbhatt/Documents/w_bot_dp\n",
      "2021-03-28 00:06:40.614 INFO in 'deeppavlov.download'['download'] at line 132: Skipped http://files.deeppavlov.ai/embeddings/glove.6B.100d.txt download because of matching hashes\n",
      "2021-03-28 00:06:41.300 DEBUG in 'deeppavlov.dataset_readers.md_yaml_dialogs_reader'['md_yaml_dialogs_reader'] at line 217: BEFORE MLU_MD_DialogsDatasetReader._read_story(): story_fpath=/home/abhishekbhatt/Documents/w_bot_dp/stories-trn.md, dialogs=False, domain_knowledge=<deeppavlov.dataset_readers.md_yaml_dialogs_reader.DomainKnowledge object at 0x7f5fd39418d0>, intent2slots2text={'greet': {(): [{'text': 'Hi', 'slots': []}, {'text': 'Hey', 'slots': []}, {'text': 'Hi bot', 'slots': []}, {'text': 'Hey bot', 'slots': []}, {'text': 'Hello', 'slots': []}, {'text': 'Good morning', 'slots': []}, {'text': 'hi again', 'slots': []}, {'text': 'hi folks', 'slots': []}]}, 'bye': {(): [{'text': 'goodbye', 'slots': []}, {'text': 'goodnight', 'slots': []}, {'text': 'good bye', 'slots': []}, {'text': 'good night', 'slots': []}, {'text': 'see ya', 'slots': []}, {'text': 'toodle-oo', 'slots': []}, {'text': 'bye bye', 'slots': []}, {'text': 'gotta go', 'slots': []}, {'text': 'farewell', 'slots': []}]}, 'thank': {(): [{'text': 'Thanks', 'slots': []}, {'text': 'Thank you', 'slots': []}, {'text': 'Thank you so much', 'slots': []}, {'text': 'Thanks bot', 'slots': []}, {'text': 'Thanks for that', 'slots': []}, {'text': 'cheers', 'slots': []}]}}, slot_name2text2value={}\n",
      "2021-03-28 00:06:41.464 INFO in 'deeppavlov.dataset_readers.dstc2_reader'['dstc2_reader'] at line 112: [loading dialogs from /tmp/tmpdp571ze3]\n",
      "2021-03-28 00:06:41.471 DEBUG in 'deeppavlov.dataset_readers.md_yaml_dialogs_reader'['md_yaml_dialogs_reader'] at line 306: AFTER MLU_MD_DialogsDatasetReader._read_story(): story_fpath=/home/abhishekbhatt/Documents/w_bot_dp/stories-trn.md, dialogs=False, domain_knowledge=<deeppavlov.dataset_readers.md_yaml_dialogs_reader.DomainKnowledge object at 0x7f5fd39418d0>, intent2slots2text={'greet': {(): [{'text': 'Hi', 'slots': []}, {'text': 'Hey', 'slots': []}, {'text': 'Hi bot', 'slots': []}, {'text': 'Hey bot', 'slots': []}, {'text': 'Hello', 'slots': []}, {'text': 'Good morning', 'slots': []}, {'text': 'hi again', 'slots': []}, {'text': 'hi folks', 'slots': []}]}, 'bye': {(): [{'text': 'goodbye', 'slots': []}, {'text': 'goodnight', 'slots': []}, {'text': 'good bye', 'slots': []}, {'text': 'good night', 'slots': []}, {'text': 'see ya', 'slots': []}, {'text': 'toodle-oo', 'slots': []}, {'text': 'bye bye', 'slots': []}, {'text': 'gotta go', 'slots': []}, {'text': 'farewell', 'slots': []}]}, 'thank': {(): [{'text': 'Thanks', 'slots': []}, {'text': 'Thank you', 'slots': []}, {'text': 'Thank you so much', 'slots': []}, {'text': 'Thanks bot', 'slots': []}, {'text': 'Thanks for that', 'slots': []}, {'text': 'cheers', 'slots': []}]}}, slot_name2text2value={}\n",
      "2021-03-28 00:06:41.476 DEBUG in 'deeppavlov.dataset_readers.md_yaml_dialogs_reader'['md_yaml_dialogs_reader'] at line 217: BEFORE MLU_MD_DialogsDatasetReader._read_story(): story_fpath=/home/abhishekbhatt/Documents/w_bot_dp/stories-val.md, dialogs=False, domain_knowledge=<deeppavlov.dataset_readers.md_yaml_dialogs_reader.DomainKnowledge object at 0x7f5fd39418d0>, intent2slots2text={'greet': {(): [{'text': 'Hi', 'slots': []}, {'text': 'Hey', 'slots': []}, {'text': 'Hi bot', 'slots': []}, {'text': 'Hey bot', 'slots': []}, {'text': 'Hello', 'slots': []}, {'text': 'Good morning', 'slots': []}, {'text': 'hi again', 'slots': []}, {'text': 'hi folks', 'slots': []}]}, 'bye': {(): [{'text': 'goodbye', 'slots': []}, {'text': 'goodnight', 'slots': []}, {'text': 'good bye', 'slots': []}, {'text': 'good night', 'slots': []}, {'text': 'see ya', 'slots': []}, {'text': 'toodle-oo', 'slots': []}, {'text': 'bye bye', 'slots': []}, {'text': 'gotta go', 'slots': []}, {'text': 'farewell', 'slots': []}]}, 'thank': {(): [{'text': 'Thanks', 'slots': []}, {'text': 'Thank you', 'slots': []}, {'text': 'Thank you so much', 'slots': []}, {'text': 'Thanks bot', 'slots': []}, {'text': 'Thanks for that', 'slots': []}, {'text': 'cheers', 'slots': []}]}}, slot_name2text2value={}\n",
      "2021-03-28 00:06:41.518 INFO in 'deeppavlov.dataset_readers.dstc2_reader'['dstc2_reader'] at line 112: [loading dialogs from /tmp/tmp1qkuu2_8]\n",
      "2021-03-28 00:06:41.522 DEBUG in 'deeppavlov.dataset_readers.md_yaml_dialogs_reader'['md_yaml_dialogs_reader'] at line 306: AFTER MLU_MD_DialogsDatasetReader._read_story(): story_fpath=/home/abhishekbhatt/Documents/w_bot_dp/stories-val.md, dialogs=False, domain_knowledge=<deeppavlov.dataset_readers.md_yaml_dialogs_reader.DomainKnowledge object at 0x7f5fd39418d0>, intent2slots2text={'greet': {(): [{'text': 'Hi', 'slots': []}, {'text': 'Hey', 'slots': []}, {'text': 'Hi bot', 'slots': []}, {'text': 'Hey bot', 'slots': []}, {'text': 'Hello', 'slots': []}, {'text': 'Good morning', 'slots': []}, {'text': 'hi again', 'slots': []}, {'text': 'hi folks', 'slots': []}]}, 'bye': {(): [{'text': 'goodbye', 'slots': []}, {'text': 'goodnight', 'slots': []}, {'text': 'good bye', 'slots': []}, {'text': 'good night', 'slots': []}, {'text': 'see ya', 'slots': []}, {'text': 'toodle-oo', 'slots': []}, {'text': 'bye bye', 'slots': []}, {'text': 'gotta go', 'slots': []}, {'text': 'farewell', 'slots': []}]}, 'thank': {(): [{'text': 'Thanks', 'slots': []}, {'text': 'Thank you', 'slots': []}, {'text': 'Thank you so much', 'slots': []}, {'text': 'Thanks bot', 'slots': []}, {'text': 'Thanks for that', 'slots': []}, {'text': 'cheers', 'slots': []}]}}, slot_name2text2value={}\n",
      "2021-03-28 00:06:41.525 DEBUG in 'deeppavlov.dataset_readers.md_yaml_dialogs_reader'['md_yaml_dialogs_reader'] at line 217: BEFORE MLU_MD_DialogsDatasetReader._read_story(): story_fpath=/home/abhishekbhatt/Documents/w_bot_dp/stories-tst.md, dialogs=False, domain_knowledge=<deeppavlov.dataset_readers.md_yaml_dialogs_reader.DomainKnowledge object at 0x7f5fd39418d0>, intent2slots2text={'greet': {(): [{'text': 'Hi', 'slots': []}, {'text': 'Hey', 'slots': []}, {'text': 'Hi bot', 'slots': []}, {'text': 'Hey bot', 'slots': []}, {'text': 'Hello', 'slots': []}, {'text': 'Good morning', 'slots': []}, {'text': 'hi again', 'slots': []}, {'text': 'hi folks', 'slots': []}]}, 'bye': {(): [{'text': 'goodbye', 'slots': []}, {'text': 'goodnight', 'slots': []}, {'text': 'good bye', 'slots': []}, {'text': 'good night', 'slots': []}, {'text': 'see ya', 'slots': []}, {'text': 'toodle-oo', 'slots': []}, {'text': 'bye bye', 'slots': []}, {'text': 'gotta go', 'slots': []}, {'text': 'farewell', 'slots': []}]}, 'thank': {(): [{'text': 'Thanks', 'slots': []}, {'text': 'Thank you', 'slots': []}, {'text': 'Thank you so much', 'slots': []}, {'text': 'Thanks bot', 'slots': []}, {'text': 'Thanks for that', 'slots': []}, {'text': 'cheers', 'slots': []}]}}, slot_name2text2value={}\n",
      "2021-03-28 00:06:41.531 INFO in 'deeppavlov.dataset_readers.dstc2_reader'['dstc2_reader'] at line 112: [loading dialogs from /tmp/tmppdkf2unx]\n",
      "2021-03-28 00:06:41.535 DEBUG in 'deeppavlov.dataset_readers.md_yaml_dialogs_reader'['md_yaml_dialogs_reader'] at line 306: AFTER MLU_MD_DialogsDatasetReader._read_story(): story_fpath=/home/abhishekbhatt/Documents/w_bot_dp/stories-tst.md, dialogs=False, domain_knowledge=<deeppavlov.dataset_readers.md_yaml_dialogs_reader.DomainKnowledge object at 0x7f5fd39418d0>, intent2slots2text={'greet': {(): [{'text': 'Hi', 'slots': []}, {'text': 'Hey', 'slots': []}, {'text': 'Hi bot', 'slots': []}, {'text': 'Hey bot', 'slots': []}, {'text': 'Hello', 'slots': []}, {'text': 'Good morning', 'slots': []}, {'text': 'hi again', 'slots': []}, {'text': 'hi folks', 'slots': []}]}, 'bye': {(): [{'text': 'goodbye', 'slots': []}, {'text': 'goodnight', 'slots': []}, {'text': 'good bye', 'slots': []}, {'text': 'good night', 'slots': []}, {'text': 'see ya', 'slots': []}, {'text': 'toodle-oo', 'slots': []}, {'text': 'bye bye', 'slots': []}, {'text': 'gotta go', 'slots': []}, {'text': 'farewell', 'slots': []}]}, 'thank': {(): [{'text': 'Thanks', 'slots': []}, {'text': 'Thank you', 'slots': []}, {'text': 'Thank you so much', 'slots': []}, {'text': 'Thanks bot', 'slots': []}, {'text': 'Thanks for that', 'slots': []}, {'text': 'cheers', 'slots': []}]}}, slot_name2text2value={}\n"
     ]
    },
    {
     "name": "stderr",
     "output_type": "stream",
     "text": [
      "2021-03-28 00:06:41.560 INFO in 'deeppavlov.core.data.simple_vocab'['simple_vocab'] at line 115: [loading vocabulary from /home/abhishekbhatt/Documents/w_bot_dp/word.dict]\n",
      "2021-03-28 00:06:41.584 INFO in 'deeppavlov.core.data.simple_vocab'['simple_vocab'] at line 101: [saving vocabulary to /home/abhishekbhatt/Documents/w_bot_dp/word.dict]\n",
      "2021-03-28 00:06:41.626 DEBUG in 'deeppavlov.dataset_readers.md_yaml_dialogs_reader'['md_yaml_dialogs_reader'] at line 217: BEFORE MLU_MD_DialogsDatasetReader._read_story(): story_fpath=/home/abhishekbhatt/Documents/w_bot_dp/stories-trn.md, dialogs=True, domain_knowledge=<deeppavlov.dataset_readers.md_yaml_dialogs_reader.DomainKnowledge object at 0x7f5fd393e8d0>, intent2slots2text={'greet': {(): [{'text': 'Hi', 'slots': []}, {'text': 'Hey', 'slots': []}, {'text': 'Hi bot', 'slots': []}, {'text': 'Hey bot', 'slots': []}, {'text': 'Hello', 'slots': []}, {'text': 'Good morning', 'slots': []}, {'text': 'hi again', 'slots': []}, {'text': 'hi folks', 'slots': []}]}, 'bye': {(): [{'text': 'goodbye', 'slots': []}, {'text': 'goodnight', 'slots': []}, {'text': 'good bye', 'slots': []}, {'text': 'good night', 'slots': []}, {'text': 'see ya', 'slots': []}, {'text': 'toodle-oo', 'slots': []}, {'text': 'bye bye', 'slots': []}, {'text': 'gotta go', 'slots': []}, {'text': 'farewell', 'slots': []}]}, 'thank': {(): [{'text': 'Thanks', 'slots': []}, {'text': 'Thank you', 'slots': []}, {'text': 'Thank you so much', 'slots': []}, {'text': 'Thanks bot', 'slots': []}, {'text': 'Thanks for that', 'slots': []}, {'text': 'cheers', 'slots': []}]}}, slot_name2text2value={}\n",
      "2021-03-28 00:06:41.639 INFO in 'deeppavlov.dataset_readers.dstc2_reader'['dstc2_reader'] at line 112: [loading dialogs from /tmp/tmpka8jzuxe]\n",
      "2021-03-28 00:06:41.652 DEBUG in 'deeppavlov.dataset_readers.md_yaml_dialogs_reader'['md_yaml_dialogs_reader'] at line 306: AFTER MLU_MD_DialogsDatasetReader._read_story(): story_fpath=/home/abhishekbhatt/Documents/w_bot_dp/stories-trn.md, dialogs=True, domain_knowledge=<deeppavlov.dataset_readers.md_yaml_dialogs_reader.DomainKnowledge object at 0x7f5fd393e8d0>, intent2slots2text={'greet': {(): [{'text': 'Hi', 'slots': []}, {'text': 'Hey', 'slots': []}, {'text': 'Hi bot', 'slots': []}, {'text': 'Hey bot', 'slots': []}, {'text': 'Hello', 'slots': []}, {'text': 'Good morning', 'slots': []}, {'text': 'hi again', 'slots': []}, {'text': 'hi folks', 'slots': []}]}, 'bye': {(): [{'text': 'goodbye', 'slots': []}, {'text': 'goodnight', 'slots': []}, {'text': 'good bye', 'slots': []}, {'text': 'good night', 'slots': []}, {'text': 'see ya', 'slots': []}, {'text': 'toodle-oo', 'slots': []}, {'text': 'bye bye', 'slots': []}, {'text': 'gotta go', 'slots': []}, {'text': 'farewell', 'slots': []}]}, 'thank': {(): [{'text': 'Thanks', 'slots': []}, {'text': 'Thank you', 'slots': []}, {'text': 'Thank you so much', 'slots': []}, {'text': 'Thanks bot', 'slots': []}, {'text': 'Thanks for that', 'slots': []}, {'text': 'cheers', 'slots': []}]}}, slot_name2text2value={}\n",
      "2021-03-28 00:06:41.654 DEBUG in 'deeppavlov.dataset_readers.md_yaml_dialogs_reader'['md_yaml_dialogs_reader'] at line 217: BEFORE MLU_MD_DialogsDatasetReader._read_story(): story_fpath=/home/abhishekbhatt/Documents/w_bot_dp/stories-val.md, dialogs=True, domain_knowledge=<deeppavlov.dataset_readers.md_yaml_dialogs_reader.DomainKnowledge object at 0x7f5fd393e8d0>, intent2slots2text={'greet': {(): [{'text': 'Hi', 'slots': []}, {'text': 'Hey', 'slots': []}, {'text': 'Hi bot', 'slots': []}, {'text': 'Hey bot', 'slots': []}, {'text': 'Hello', 'slots': []}, {'text': 'Good morning', 'slots': []}, {'text': 'hi again', 'slots': []}, {'text': 'hi folks', 'slots': []}]}, 'bye': {(): [{'text': 'goodbye', 'slots': []}, {'text': 'goodnight', 'slots': []}, {'text': 'good bye', 'slots': []}, {'text': 'good night', 'slots': []}, {'text': 'see ya', 'slots': []}, {'text': 'toodle-oo', 'slots': []}, {'text': 'bye bye', 'slots': []}, {'text': 'gotta go', 'slots': []}, {'text': 'farewell', 'slots': []}]}, 'thank': {(): [{'text': 'Thanks', 'slots': []}, {'text': 'Thank you', 'slots': []}, {'text': 'Thank you so much', 'slots': []}, {'text': 'Thanks bot', 'slots': []}, {'text': 'Thanks for that', 'slots': []}, {'text': 'cheers', 'slots': []}]}}, slot_name2text2value={}\n",
      "2021-03-28 00:06:41.660 INFO in 'deeppavlov.dataset_readers.dstc2_reader'['dstc2_reader'] at line 112: [loading dialogs from /tmp/tmpbsczf4w7]\n",
      "2021-03-28 00:06:41.665 DEBUG in 'deeppavlov.dataset_readers.md_yaml_dialogs_reader'['md_yaml_dialogs_reader'] at line 306: AFTER MLU_MD_DialogsDatasetReader._read_story(): story_fpath=/home/abhishekbhatt/Documents/w_bot_dp/stories-val.md, dialogs=True, domain_knowledge=<deeppavlov.dataset_readers.md_yaml_dialogs_reader.DomainKnowledge object at 0x7f5fd393e8d0>, intent2slots2text={'greet': {(): [{'text': 'Hi', 'slots': []}, {'text': 'Hey', 'slots': []}, {'text': 'Hi bot', 'slots': []}, {'text': 'Hey bot', 'slots': []}, {'text': 'Hello', 'slots': []}, {'text': 'Good morning', 'slots': []}, {'text': 'hi again', 'slots': []}, {'text': 'hi folks', 'slots': []}]}, 'bye': {(): [{'text': 'goodbye', 'slots': []}, {'text': 'goodnight', 'slots': []}, {'text': 'good bye', 'slots': []}, {'text': 'good night', 'slots': []}, {'text': 'see ya', 'slots': []}, {'text': 'toodle-oo', 'slots': []}, {'text': 'bye bye', 'slots': []}, {'text': 'gotta go', 'slots': []}, {'text': 'farewell', 'slots': []}]}, 'thank': {(): [{'text': 'Thanks', 'slots': []}, {'text': 'Thank you', 'slots': []}, {'text': 'Thank you so much', 'slots': []}, {'text': 'Thanks bot', 'slots': []}, {'text': 'Thanks for that', 'slots': []}, {'text': 'cheers', 'slots': []}]}}, slot_name2text2value={}\n",
      "2021-03-28 00:06:41.669 DEBUG in 'deeppavlov.dataset_readers.md_yaml_dialogs_reader'['md_yaml_dialogs_reader'] at line 217: BEFORE MLU_MD_DialogsDatasetReader._read_story(): story_fpath=/home/abhishekbhatt/Documents/w_bot_dp/stories-tst.md, dialogs=True, domain_knowledge=<deeppavlov.dataset_readers.md_yaml_dialogs_reader.DomainKnowledge object at 0x7f5fd393e8d0>, intent2slots2text={'greet': {(): [{'text': 'Hi', 'slots': []}, {'text': 'Hey', 'slots': []}, {'text': 'Hi bot', 'slots': []}, {'text': 'Hey bot', 'slots': []}, {'text': 'Hello', 'slots': []}, {'text': 'Good morning', 'slots': []}, {'text': 'hi again', 'slots': []}, {'text': 'hi folks', 'slots': []}]}, 'bye': {(): [{'text': 'goodbye', 'slots': []}, {'text': 'goodnight', 'slots': []}, {'text': 'good bye', 'slots': []}, {'text': 'good night', 'slots': []}, {'text': 'see ya', 'slots': []}, {'text': 'toodle-oo', 'slots': []}, {'text': 'bye bye', 'slots': []}, {'text': 'gotta go', 'slots': []}, {'text': 'farewell', 'slots': []}]}, 'thank': {(): [{'text': 'Thanks', 'slots': []}, {'text': 'Thank you', 'slots': []}, {'text': 'Thank you so much', 'slots': []}, {'text': 'Thanks bot', 'slots': []}, {'text': 'Thanks for that', 'slots': []}, {'text': 'cheers', 'slots': []}]}}, slot_name2text2value={}\n",
      "2021-03-28 00:06:41.674 INFO in 'deeppavlov.dataset_readers.dstc2_reader'['dstc2_reader'] at line 112: [loading dialogs from /tmp/tmpkh5x0k23]\n",
      "2021-03-28 00:06:41.677 DEBUG in 'deeppavlov.dataset_readers.md_yaml_dialogs_reader'['md_yaml_dialogs_reader'] at line 306: AFTER MLU_MD_DialogsDatasetReader._read_story(): story_fpath=/home/abhishekbhatt/Documents/w_bot_dp/stories-tst.md, dialogs=True, domain_knowledge=<deeppavlov.dataset_readers.md_yaml_dialogs_reader.DomainKnowledge object at 0x7f5fd393e8d0>, intent2slots2text={'greet': {(): [{'text': 'Hi', 'slots': []}, {'text': 'Hey', 'slots': []}, {'text': 'Hi bot', 'slots': []}, {'text': 'Hey bot', 'slots': []}, {'text': 'Hello', 'slots': []}, {'text': 'Good morning', 'slots': []}, {'text': 'hi again', 'slots': []}, {'text': 'hi folks', 'slots': []}]}, 'bye': {(): [{'text': 'goodbye', 'slots': []}, {'text': 'goodnight', 'slots': []}, {'text': 'good bye', 'slots': []}, {'text': 'good night', 'slots': []}, {'text': 'see ya', 'slots': []}, {'text': 'toodle-oo', 'slots': []}, {'text': 'bye bye', 'slots': []}, {'text': 'gotta go', 'slots': []}, {'text': 'farewell', 'slots': []}]}, 'thank': {(): [{'text': 'Thanks', 'slots': []}, {'text': 'Thank you', 'slots': []}, {'text': 'Thank you so much', 'slots': []}, {'text': 'Thanks bot', 'slots': []}, {'text': 'Thanks for that', 'slots': []}, {'text': 'cheers', 'slots': []}]}}, slot_name2text2value={}\n"
     ]
    },
    {
     "name": "stderr",
     "output_type": "stream",
     "text": [
      "2021-03-28 00:06:41.703 INFO in 'deeppavlov.models.embedders.glove_embedder'['glove_embedder'] at line 52: [loading GloVe embeddings from `/home/abhishekbhatt/.deeppavlov/downloads/embeddings/glove.6B.100d.txt`]\n",
      "2021-03-28 00:08:15.79 INFO in 'deeppavlov.models.go_bot.policy.policy_network'['policy_network'] at line 86: INSIDE PolicyNetwork init(). Initializing PolicyNetwork from checkpoint.\n",
      "2021-03-28 00:08:15.295 INFO in 'deeppavlov.core.models.tf_model'['tf_model'] at line 51: [loading model from /home/abhishekbhatt/Documents/w_bot_dp/model/policy]\n"
     ]
    },
    {
     "name": "stdout",
     "output_type": "stream",
     "text": [
      "INFO:tensorflow:Restoring parameters from /home/abhishekbhatt/Documents/w_bot_dp/model/policy\n"
     ]
    },
    {
     "name": "stderr",
     "output_type": "stream",
     "text": [
      "2021-03-28 00:08:18.883 INFO in 'deeppavlov.core.trainers.nn_trainer'['nn_trainer'] at line 198: Initial best per_item_action_accuracy of 1.0\n"
     ]
    },
    {
     "name": "stdout",
     "output_type": "stream",
     "text": [
      "{\"valid\": {\"eval_examples_count\": 3, \"metrics\": {\"per_item_action_accuracy\": 1.0}, \"time_spent\": \"0:00:04\", \"epochs_done\": 0, \"batches_seen\": 0, \"train_examples_seen\": 0, \"impatience\": 0, \"patience_limit\": 10}}\n"
     ]
    },
    {
     "name": "stderr",
     "output_type": "stream",
     "text": [
      "2021-03-28 00:08:21.905 INFO in 'deeppavlov.core.trainers.nn_trainer'['nn_trainer'] at line 211: Did not improve on the per_item_action_accuracy of 1.0\n"
     ]
    },
    {
     "name": "stdout",
     "output_type": "stream",
     "text": [
      "{\"train\": {\"eval_examples_count\": 3, \"metrics\": {\"per_item_action_accuracy\": 1.0}, \"time_spent\": \"0:00:07\", \"epochs_done\": 14, \"batches_seen\": 15, \"train_examples_seen\": 45, \"learning_rate\": 0.003, \"momentum\": 0.95, \"loss\": 0.025679425895214082}}\n",
      "{\"valid\": {\"eval_examples_count\": 3, \"metrics\": {\"per_item_action_accuracy\": 1.0}, \"time_spent\": \"0:00:07\", \"epochs_done\": 14, \"batches_seen\": 15, \"train_examples_seen\": 45, \"impatience\": 1, \"patience_limit\": 10}}\n"
     ]
    },
    {
     "name": "stderr",
     "output_type": "stream",
     "text": [
      "2021-03-28 00:08:22.142 INFO in 'deeppavlov.core.trainers.nn_trainer'['nn_trainer'] at line 211: Did not improve on the per_item_action_accuracy of 1.0\n"
     ]
    },
    {
     "name": "stdout",
     "output_type": "stream",
     "text": [
      "{\"train\": {\"eval_examples_count\": 3, \"metrics\": {\"per_item_action_accuracy\": 1.0}, \"time_spent\": \"0:00:07\", \"epochs_done\": 29, \"batches_seen\": 30, \"train_examples_seen\": 90, \"learning_rate\": 0.003, \"momentum\": 0.95, \"loss\": 0.009503619900594154}}\n",
      "{\"valid\": {\"eval_examples_count\": 3, \"metrics\": {\"per_item_action_accuracy\": 1.0}, \"time_spent\": \"0:00:07\", \"epochs_done\": 29, \"batches_seen\": 30, \"train_examples_seen\": 90, \"impatience\": 2, \"patience_limit\": 10}}\n"
     ]
    },
    {
     "name": "stderr",
     "output_type": "stream",
     "text": [
      "2021-03-28 00:08:22.378 INFO in 'deeppavlov.core.trainers.nn_trainer'['nn_trainer'] at line 211: Did not improve on the per_item_action_accuracy of 1.0\n"
     ]
    },
    {
     "name": "stdout",
     "output_type": "stream",
     "text": [
      "{\"train\": {\"eval_examples_count\": 3, \"metrics\": {\"per_item_action_accuracy\": 1.0}, \"time_spent\": \"0:00:07\", \"epochs_done\": 44, \"batches_seen\": 45, \"train_examples_seen\": 135, \"learning_rate\": 0.003, \"momentum\": 0.95, \"loss\": 0.0047588431742042305}}\n",
      "{\"valid\": {\"eval_examples_count\": 3, \"metrics\": {\"per_item_action_accuracy\": 1.0}, \"time_spent\": \"0:00:07\", \"epochs_done\": 44, \"batches_seen\": 45, \"train_examples_seen\": 135, \"impatience\": 3, \"patience_limit\": 10}}\n"
     ]
    },
    {
     "name": "stderr",
     "output_type": "stream",
     "text": [
      "2021-03-28 00:08:22.618 INFO in 'deeppavlov.core.trainers.nn_trainer'['nn_trainer'] at line 211: Did not improve on the per_item_action_accuracy of 1.0\n"
     ]
    },
    {
     "name": "stdout",
     "output_type": "stream",
     "text": [
      "{\"train\": {\"eval_examples_count\": 3, \"metrics\": {\"per_item_action_accuracy\": 1.0}, \"time_spent\": \"0:00:07\", \"epochs_done\": 59, \"batches_seen\": 60, \"train_examples_seen\": 180, \"learning_rate\": 0.003, \"momentum\": 0.95, \"loss\": 0.0031823570529619853}}\n",
      "{\"valid\": {\"eval_examples_count\": 3, \"metrics\": {\"per_item_action_accuracy\": 1.0}, \"time_spent\": \"0:00:07\", \"epochs_done\": 59, \"batches_seen\": 60, \"train_examples_seen\": 180, \"impatience\": 4, \"patience_limit\": 10}}\n"
     ]
    },
    {
     "name": "stderr",
     "output_type": "stream",
     "text": [
      "2021-03-28 00:08:22.855 INFO in 'deeppavlov.core.trainers.nn_trainer'['nn_trainer'] at line 211: Did not improve on the per_item_action_accuracy of 1.0\n"
     ]
    },
    {
     "name": "stdout",
     "output_type": "stream",
     "text": [
      "{\"train\": {\"eval_examples_count\": 3, \"metrics\": {\"per_item_action_accuracy\": 1.0}, \"time_spent\": \"0:00:08\", \"epochs_done\": 74, \"batches_seen\": 75, \"train_examples_seen\": 225, \"learning_rate\": 0.003, \"momentum\": 0.95, \"loss\": 0.00277250986546278}}\n",
      "{\"valid\": {\"eval_examples_count\": 3, \"metrics\": {\"per_item_action_accuracy\": 1.0}, \"time_spent\": \"0:00:08\", \"epochs_done\": 74, \"batches_seen\": 75, \"train_examples_seen\": 225, \"impatience\": 5, \"patience_limit\": 10}}\n"
     ]
    },
    {
     "name": "stderr",
     "output_type": "stream",
     "text": [
      "2021-03-28 00:08:23.91 INFO in 'deeppavlov.core.trainers.nn_trainer'['nn_trainer'] at line 211: Did not improve on the per_item_action_accuracy of 1.0\n"
     ]
    },
    {
     "name": "stdout",
     "output_type": "stream",
     "text": [
      "{\"train\": {\"eval_examples_count\": 3, \"metrics\": {\"per_item_action_accuracy\": 1.0}, \"time_spent\": \"0:00:08\", \"epochs_done\": 89, \"batches_seen\": 90, \"train_examples_seen\": 270, \"learning_rate\": 0.003, \"momentum\": 0.95, \"loss\": 0.002566442840422193}}\n",
      "{\"valid\": {\"eval_examples_count\": 3, \"metrics\": {\"per_item_action_accuracy\": 1.0}, \"time_spent\": \"0:00:08\", \"epochs_done\": 89, \"batches_seen\": 90, \"train_examples_seen\": 270, \"impatience\": 6, \"patience_limit\": 10}}\n"
     ]
    },
    {
     "name": "stderr",
     "output_type": "stream",
     "text": [
      "2021-03-28 00:08:23.323 INFO in 'deeppavlov.core.trainers.nn_trainer'['nn_trainer'] at line 211: Did not improve on the per_item_action_accuracy of 1.0\n"
     ]
    },
    {
     "name": "stdout",
     "output_type": "stream",
     "text": [
      "{\"train\": {\"eval_examples_count\": 3, \"metrics\": {\"per_item_action_accuracy\": 1.0}, \"time_spent\": \"0:00:08\", \"epochs_done\": 104, \"batches_seen\": 105, \"train_examples_seen\": 315, \"learning_rate\": 0.003, \"momentum\": 0.95, \"loss\": 0.002371167344972491}}\n",
      "{\"valid\": {\"eval_examples_count\": 3, \"metrics\": {\"per_item_action_accuracy\": 1.0}, \"time_spent\": \"0:00:08\", \"epochs_done\": 104, \"batches_seen\": 105, \"train_examples_seen\": 315, \"impatience\": 7, \"patience_limit\": 10}}\n"
     ]
    },
    {
     "name": "stderr",
     "output_type": "stream",
     "text": [
      "2021-03-28 00:08:23.564 INFO in 'deeppavlov.core.trainers.nn_trainer'['nn_trainer'] at line 211: Did not improve on the per_item_action_accuracy of 1.0\n"
     ]
    },
    {
     "name": "stdout",
     "output_type": "stream",
     "text": [
      "{\"train\": {\"eval_examples_count\": 3, \"metrics\": {\"per_item_action_accuracy\": 1.0}, \"time_spent\": \"0:00:08\", \"epochs_done\": 119, \"batches_seen\": 120, \"train_examples_seen\": 360, \"learning_rate\": 0.003, \"momentum\": 0.95, \"loss\": 0.002199471027900775}}\n",
      "{\"valid\": {\"eval_examples_count\": 3, \"metrics\": {\"per_item_action_accuracy\": 1.0}, \"time_spent\": \"0:00:08\", \"epochs_done\": 119, \"batches_seen\": 120, \"train_examples_seen\": 360, \"impatience\": 8, \"patience_limit\": 10}}\n"
     ]
    },
    {
     "name": "stderr",
     "output_type": "stream",
     "text": [
      "2021-03-28 00:08:23.811 INFO in 'deeppavlov.core.trainers.nn_trainer'['nn_trainer'] at line 211: Did not improve on the per_item_action_accuracy of 1.0\n"
     ]
    },
    {
     "name": "stdout",
     "output_type": "stream",
     "text": [
      "{\"train\": {\"eval_examples_count\": 3, \"metrics\": {\"per_item_action_accuracy\": 1.0}, \"time_spent\": \"0:00:09\", \"epochs_done\": 134, \"batches_seen\": 135, \"train_examples_seen\": 405, \"learning_rate\": 0.003, \"momentum\": 0.95, \"loss\": 0.0020621527917683126}}\n",
      "{\"valid\": {\"eval_examples_count\": 3, \"metrics\": {\"per_item_action_accuracy\": 1.0}, \"time_spent\": \"0:00:09\", \"epochs_done\": 134, \"batches_seen\": 135, \"train_examples_seen\": 405, \"impatience\": 9, \"patience_limit\": 10}}\n"
     ]
    },
    {
     "name": "stderr",
     "output_type": "stream",
     "text": [
      "2021-03-28 00:08:24.51 INFO in 'deeppavlov.core.trainers.nn_trainer'['nn_trainer'] at line 211: Did not improve on the per_item_action_accuracy of 1.0\n",
      "2021-03-28 00:08:24.52 INFO in 'deeppavlov.core.trainers.nn_trainer'['nn_trainer'] at line 307: Ran out of patience\n"
     ]
    },
    {
     "name": "stdout",
     "output_type": "stream",
     "text": [
      "{\"train\": {\"eval_examples_count\": 3, \"metrics\": {\"per_item_action_accuracy\": 1.0}, \"time_spent\": \"0:00:09\", \"epochs_done\": 149, \"batches_seen\": 150, \"train_examples_seen\": 450, \"learning_rate\": 0.003, \"momentum\": 0.95, \"loss\": 0.0019487971672788261}}\n",
      "{\"valid\": {\"eval_examples_count\": 3, \"metrics\": {\"per_item_action_accuracy\": 1.0}, \"time_spent\": \"0:00:09\", \"epochs_done\": 149, \"batches_seen\": 150, \"train_examples_seen\": 450, \"impatience\": 10, \"patience_limit\": 10}}\n"
     ]
    },
    {
     "name": "stderr",
     "output_type": "stream",
     "text": [
      "2021-03-28 00:08:25.424 INFO in 'deeppavlov.core.data.simple_vocab'['simple_vocab'] at line 115: [loading vocabulary from /home/abhishekbhatt/Documents/w_bot_dp/word.dict]\n",
      "2021-03-28 00:08:26.744 DEBUG in 'deeppavlov.dataset_readers.md_yaml_dialogs_reader'['md_yaml_dialogs_reader'] at line 217: BEFORE MLU_MD_DialogsDatasetReader._read_story(): story_fpath=/home/abhishekbhatt/Documents/w_bot_dp/stories-trn.md, dialogs=True, domain_knowledge=<deeppavlov.dataset_readers.md_yaml_dialogs_reader.DomainKnowledge object at 0x7f5fc05983d0>, intent2slots2text={'greet': {(): [{'text': 'Hi', 'slots': []}, {'text': 'Hey', 'slots': []}, {'text': 'Hi bot', 'slots': []}, {'text': 'Hey bot', 'slots': []}, {'text': 'Hello', 'slots': []}, {'text': 'Good morning', 'slots': []}, {'text': 'hi again', 'slots': []}, {'text': 'hi folks', 'slots': []}]}, 'bye': {(): [{'text': 'goodbye', 'slots': []}, {'text': 'goodnight', 'slots': []}, {'text': 'good bye', 'slots': []}, {'text': 'good night', 'slots': []}, {'text': 'see ya', 'slots': []}, {'text': 'toodle-oo', 'slots': []}, {'text': 'bye bye', 'slots': []}, {'text': 'gotta go', 'slots': []}, {'text': 'farewell', 'slots': []}]}, 'thank': {(): [{'text': 'Thanks', 'slots': []}, {'text': 'Thank you', 'slots': []}, {'text': 'Thank you so much', 'slots': []}, {'text': 'Thanks bot', 'slots': []}, {'text': 'Thanks for that', 'slots': []}, {'text': 'cheers', 'slots': []}]}}, slot_name2text2value={}\n",
      "2021-03-28 00:08:27.13 INFO in 'deeppavlov.dataset_readers.dstc2_reader'['dstc2_reader'] at line 112: [loading dialogs from /tmp/tmp1qyl6j4x]\n",
      "2021-03-28 00:08:27.17 DEBUG in 'deeppavlov.dataset_readers.md_yaml_dialogs_reader'['md_yaml_dialogs_reader'] at line 306: AFTER MLU_MD_DialogsDatasetReader._read_story(): story_fpath=/home/abhishekbhatt/Documents/w_bot_dp/stories-trn.md, dialogs=True, domain_knowledge=<deeppavlov.dataset_readers.md_yaml_dialogs_reader.DomainKnowledge object at 0x7f5fc05983d0>, intent2slots2text={'greet': {(): [{'text': 'Hi', 'slots': []}, {'text': 'Hey', 'slots': []}, {'text': 'Hi bot', 'slots': []}, {'text': 'Hey bot', 'slots': []}, {'text': 'Hello', 'slots': []}, {'text': 'Good morning', 'slots': []}, {'text': 'hi again', 'slots': []}, {'text': 'hi folks', 'slots': []}]}, 'bye': {(): [{'text': 'goodbye', 'slots': []}, {'text': 'goodnight', 'slots': []}, {'text': 'good bye', 'slots': []}, {'text': 'good night', 'slots': []}, {'text': 'see ya', 'slots': []}, {'text': 'toodle-oo', 'slots': []}, {'text': 'bye bye', 'slots': []}, {'text': 'gotta go', 'slots': []}, {'text': 'farewell', 'slots': []}]}, 'thank': {(): [{'text': 'Thanks', 'slots': []}, {'text': 'Thank you', 'slots': []}, {'text': 'Thank you so much', 'slots': []}, {'text': 'Thanks bot', 'slots': []}, {'text': 'Thanks for that', 'slots': []}, {'text': 'cheers', 'slots': []}]}}, slot_name2text2value={}\n",
      "2021-03-28 00:08:27.18 DEBUG in 'deeppavlov.dataset_readers.md_yaml_dialogs_reader'['md_yaml_dialogs_reader'] at line 217: BEFORE MLU_MD_DialogsDatasetReader._read_story(): story_fpath=/home/abhishekbhatt/Documents/w_bot_dp/stories-val.md, dialogs=True, domain_knowledge=<deeppavlov.dataset_readers.md_yaml_dialogs_reader.DomainKnowledge object at 0x7f5fc05983d0>, intent2slots2text={'greet': {(): [{'text': 'Hi', 'slots': []}, {'text': 'Hey', 'slots': []}, {'text': 'Hi bot', 'slots': []}, {'text': 'Hey bot', 'slots': []}, {'text': 'Hello', 'slots': []}, {'text': 'Good morning', 'slots': []}, {'text': 'hi again', 'slots': []}, {'text': 'hi folks', 'slots': []}]}, 'bye': {(): [{'text': 'goodbye', 'slots': []}, {'text': 'goodnight', 'slots': []}, {'text': 'good bye', 'slots': []}, {'text': 'good night', 'slots': []}, {'text': 'see ya', 'slots': []}, {'text': 'toodle-oo', 'slots': []}, {'text': 'bye bye', 'slots': []}, {'text': 'gotta go', 'slots': []}, {'text': 'farewell', 'slots': []}]}, 'thank': {(): [{'text': 'Thanks', 'slots': []}, {'text': 'Thank you', 'slots': []}, {'text': 'Thank you so much', 'slots': []}, {'text': 'Thanks bot', 'slots': []}, {'text': 'Thanks for that', 'slots': []}, {'text': 'cheers', 'slots': []}]}}, slot_name2text2value={}\n",
      "2021-03-28 00:08:27.23 INFO in 'deeppavlov.dataset_readers.dstc2_reader'['dstc2_reader'] at line 112: [loading dialogs from /tmp/tmppn27qdjx]\n",
      "2021-03-28 00:08:27.26 DEBUG in 'deeppavlov.dataset_readers.md_yaml_dialogs_reader'['md_yaml_dialogs_reader'] at line 306: AFTER MLU_MD_DialogsDatasetReader._read_story(): story_fpath=/home/abhishekbhatt/Documents/w_bot_dp/stories-val.md, dialogs=True, domain_knowledge=<deeppavlov.dataset_readers.md_yaml_dialogs_reader.DomainKnowledge object at 0x7f5fc05983d0>, intent2slots2text={'greet': {(): [{'text': 'Hi', 'slots': []}, {'text': 'Hey', 'slots': []}, {'text': 'Hi bot', 'slots': []}, {'text': 'Hey bot', 'slots': []}, {'text': 'Hello', 'slots': []}, {'text': 'Good morning', 'slots': []}, {'text': 'hi again', 'slots': []}, {'text': 'hi folks', 'slots': []}]}, 'bye': {(): [{'text': 'goodbye', 'slots': []}, {'text': 'goodnight', 'slots': []}, {'text': 'good bye', 'slots': []}, {'text': 'good night', 'slots': []}, {'text': 'see ya', 'slots': []}, {'text': 'toodle-oo', 'slots': []}, {'text': 'bye bye', 'slots': []}, {'text': 'gotta go', 'slots': []}, {'text': 'farewell', 'slots': []}]}, 'thank': {(): [{'text': 'Thanks', 'slots': []}, {'text': 'Thank you', 'slots': []}, {'text': 'Thank you so much', 'slots': []}, {'text': 'Thanks bot', 'slots': []}, {'text': 'Thanks for that', 'slots': []}, {'text': 'cheers', 'slots': []}]}}, slot_name2text2value={}\n",
      "2021-03-28 00:08:27.27 DEBUG in 'deeppavlov.dataset_readers.md_yaml_dialogs_reader'['md_yaml_dialogs_reader'] at line 217: BEFORE MLU_MD_DialogsDatasetReader._read_story(): story_fpath=/home/abhishekbhatt/Documents/w_bot_dp/stories-tst.md, dialogs=True, domain_knowledge=<deeppavlov.dataset_readers.md_yaml_dialogs_reader.DomainKnowledge object at 0x7f5fc05983d0>, intent2slots2text={'greet': {(): [{'text': 'Hi', 'slots': []}, {'text': 'Hey', 'slots': []}, {'text': 'Hi bot', 'slots': []}, {'text': 'Hey bot', 'slots': []}, {'text': 'Hello', 'slots': []}, {'text': 'Good morning', 'slots': []}, {'text': 'hi again', 'slots': []}, {'text': 'hi folks', 'slots': []}]}, 'bye': {(): [{'text': 'goodbye', 'slots': []}, {'text': 'goodnight', 'slots': []}, {'text': 'good bye', 'slots': []}, {'text': 'good night', 'slots': []}, {'text': 'see ya', 'slots': []}, {'text': 'toodle-oo', 'slots': []}, {'text': 'bye bye', 'slots': []}, {'text': 'gotta go', 'slots': []}, {'text': 'farewell', 'slots': []}]}, 'thank': {(): [{'text': 'Thanks', 'slots': []}, {'text': 'Thank you', 'slots': []}, {'text': 'Thank you so much', 'slots': []}, {'text': 'Thanks bot', 'slots': []}, {'text': 'Thanks for that', 'slots': []}, {'text': 'cheers', 'slots': []}]}}, slot_name2text2value={}\n",
      "2021-03-28 00:08:27.30 INFO in 'deeppavlov.dataset_readers.dstc2_reader'['dstc2_reader'] at line 112: [loading dialogs from /tmp/tmpc5_rp8ux]\n",
      "2021-03-28 00:08:27.33 DEBUG in 'deeppavlov.dataset_readers.md_yaml_dialogs_reader'['md_yaml_dialogs_reader'] at line 306: AFTER MLU_MD_DialogsDatasetReader._read_story(): story_fpath=/home/abhishekbhatt/Documents/w_bot_dp/stories-tst.md, dialogs=True, domain_knowledge=<deeppavlov.dataset_readers.md_yaml_dialogs_reader.DomainKnowledge object at 0x7f5fc05983d0>, intent2slots2text={'greet': {(): [{'text': 'Hi', 'slots': []}, {'text': 'Hey', 'slots': []}, {'text': 'Hi bot', 'slots': []}, {'text': 'Hey bot', 'slots': []}, {'text': 'Hello', 'slots': []}, {'text': 'Good morning', 'slots': []}, {'text': 'hi again', 'slots': []}, {'text': 'hi folks', 'slots': []}]}, 'bye': {(): [{'text': 'goodbye', 'slots': []}, {'text': 'goodnight', 'slots': []}, {'text': 'good bye', 'slots': []}, {'text': 'good night', 'slots': []}, {'text': 'see ya', 'slots': []}, {'text': 'toodle-oo', 'slots': []}, {'text': 'bye bye', 'slots': []}, {'text': 'gotta go', 'slots': []}, {'text': 'farewell', 'slots': []}]}, 'thank': {(): [{'text': 'Thanks', 'slots': []}, {'text': 'Thank you', 'slots': []}, {'text': 'Thank you so much', 'slots': []}, {'text': 'Thanks bot', 'slots': []}, {'text': 'Thanks for that', 'slots': []}, {'text': 'cheers', 'slots': []}]}}, slot_name2text2value={}\n",
      "2021-03-28 00:08:27.97 INFO in 'deeppavlov.models.embedders.glove_embedder'['glove_embedder'] at line 52: [loading GloVe embeddings from `/home/abhishekbhatt/.deeppavlov/downloads/embeddings/glove.6B.100d.txt`]\n"
     ]
    },
    {
     "name": "stderr",
     "output_type": "stream",
     "text": [
      "2021-03-28 00:10:13.742 INFO in 'deeppavlov.models.go_bot.policy.policy_network'['policy_network'] at line 86: INSIDE PolicyNetwork init(). Initializing PolicyNetwork from checkpoint.\n",
      "2021-03-28 00:10:14.530 INFO in 'deeppavlov.core.models.tf_model'['tf_model'] at line 51: [loading model from /home/abhishekbhatt/Documents/w_bot_dp/model/policy]\n"
     ]
    },
    {
     "name": "stdout",
     "output_type": "stream",
     "text": [
      "INFO:tensorflow:Restoring parameters from /home/abhishekbhatt/Documents/w_bot_dp/model/policy\n"
     ]
    },
    {
     "name": "stderr",
     "output_type": "stream",
     "text": [
      "2021-03-28 00:10:17.659 INFO in 'deeppavlov.core.data.simple_vocab'['simple_vocab'] at line 115: [loading vocabulary from /home/abhishekbhatt/Documents/w_bot_dp/word.dict]\n"
     ]
    },
    {
     "name": "stdout",
     "output_type": "stream",
     "text": [
      "{\"valid\": {\"eval_examples_count\": 3, \"metrics\": {\"per_item_action_accuracy\": 1.0}, \"time_spent\": \"0:00:03\"}}\n",
      "{\"test\": {\"eval_examples_count\": 3, \"metrics\": {\"per_item_action_accuracy\": 1.0}, \"time_spent\": \"0:00:01\"}}\n"
     ]
    },
    {
     "name": "stderr",
     "output_type": "stream",
     "text": [
      "2021-03-28 00:10:18.251 DEBUG in 'deeppavlov.dataset_readers.md_yaml_dialogs_reader'['md_yaml_dialogs_reader'] at line 217: BEFORE MLU_MD_DialogsDatasetReader._read_story(): story_fpath=/home/abhishekbhatt/Documents/w_bot_dp/stories-trn.md, dialogs=True, domain_knowledge=<deeppavlov.dataset_readers.md_yaml_dialogs_reader.DomainKnowledge object at 0x7f5fc0467550>, intent2slots2text={'greet': {(): [{'text': 'Hi', 'slots': []}, {'text': 'Hey', 'slots': []}, {'text': 'Hi bot', 'slots': []}, {'text': 'Hey bot', 'slots': []}, {'text': 'Hello', 'slots': []}, {'text': 'Good morning', 'slots': []}, {'text': 'hi again', 'slots': []}, {'text': 'hi folks', 'slots': []}]}, 'bye': {(): [{'text': 'goodbye', 'slots': []}, {'text': 'goodnight', 'slots': []}, {'text': 'good bye', 'slots': []}, {'text': 'good night', 'slots': []}, {'text': 'see ya', 'slots': []}, {'text': 'toodle-oo', 'slots': []}, {'text': 'bye bye', 'slots': []}, {'text': 'gotta go', 'slots': []}, {'text': 'farewell', 'slots': []}]}, 'thank': {(): [{'text': 'Thanks', 'slots': []}, {'text': 'Thank you', 'slots': []}, {'text': 'Thank you so much', 'slots': []}, {'text': 'Thanks bot', 'slots': []}, {'text': 'Thanks for that', 'slots': []}, {'text': 'cheers', 'slots': []}]}}, slot_name2text2value={}\n",
      "2021-03-28 00:10:18.405 INFO in 'deeppavlov.dataset_readers.dstc2_reader'['dstc2_reader'] at line 112: [loading dialogs from /tmp/tmp2q_fqp48]\n",
      "2021-03-28 00:10:18.409 DEBUG in 'deeppavlov.dataset_readers.md_yaml_dialogs_reader'['md_yaml_dialogs_reader'] at line 306: AFTER MLU_MD_DialogsDatasetReader._read_story(): story_fpath=/home/abhishekbhatt/Documents/w_bot_dp/stories-trn.md, dialogs=True, domain_knowledge=<deeppavlov.dataset_readers.md_yaml_dialogs_reader.DomainKnowledge object at 0x7f5fc0467550>, intent2slots2text={'greet': {(): [{'text': 'Hi', 'slots': []}, {'text': 'Hey', 'slots': []}, {'text': 'Hi bot', 'slots': []}, {'text': 'Hey bot', 'slots': []}, {'text': 'Hello', 'slots': []}, {'text': 'Good morning', 'slots': []}, {'text': 'hi again', 'slots': []}, {'text': 'hi folks', 'slots': []}]}, 'bye': {(): [{'text': 'goodbye', 'slots': []}, {'text': 'goodnight', 'slots': []}, {'text': 'good bye', 'slots': []}, {'text': 'good night', 'slots': []}, {'text': 'see ya', 'slots': []}, {'text': 'toodle-oo', 'slots': []}, {'text': 'bye bye', 'slots': []}, {'text': 'gotta go', 'slots': []}, {'text': 'farewell', 'slots': []}]}, 'thank': {(): [{'text': 'Thanks', 'slots': []}, {'text': 'Thank you', 'slots': []}, {'text': 'Thank you so much', 'slots': []}, {'text': 'Thanks bot', 'slots': []}, {'text': 'Thanks for that', 'slots': []}, {'text': 'cheers', 'slots': []}]}}, slot_name2text2value={}\n",
      "2021-03-28 00:10:18.411 DEBUG in 'deeppavlov.dataset_readers.md_yaml_dialogs_reader'['md_yaml_dialogs_reader'] at line 217: BEFORE MLU_MD_DialogsDatasetReader._read_story(): story_fpath=/home/abhishekbhatt/Documents/w_bot_dp/stories-val.md, dialogs=True, domain_knowledge=<deeppavlov.dataset_readers.md_yaml_dialogs_reader.DomainKnowledge object at 0x7f5fc0467550>, intent2slots2text={'greet': {(): [{'text': 'Hi', 'slots': []}, {'text': 'Hey', 'slots': []}, {'text': 'Hi bot', 'slots': []}, {'text': 'Hey bot', 'slots': []}, {'text': 'Hello', 'slots': []}, {'text': 'Good morning', 'slots': []}, {'text': 'hi again', 'slots': []}, {'text': 'hi folks', 'slots': []}]}, 'bye': {(): [{'text': 'goodbye', 'slots': []}, {'text': 'goodnight', 'slots': []}, {'text': 'good bye', 'slots': []}, {'text': 'good night', 'slots': []}, {'text': 'see ya', 'slots': []}, {'text': 'toodle-oo', 'slots': []}, {'text': 'bye bye', 'slots': []}, {'text': 'gotta go', 'slots': []}, {'text': 'farewell', 'slots': []}]}, 'thank': {(): [{'text': 'Thanks', 'slots': []}, {'text': 'Thank you', 'slots': []}, {'text': 'Thank you so much', 'slots': []}, {'text': 'Thanks bot', 'slots': []}, {'text': 'Thanks for that', 'slots': []}, {'text': 'cheers', 'slots': []}]}}, slot_name2text2value={}\n",
      "2021-03-28 00:10:18.460 INFO in 'deeppavlov.dataset_readers.dstc2_reader'['dstc2_reader'] at line 112: [loading dialogs from /tmp/tmpo2z2qdjs]\n",
      "2021-03-28 00:10:18.462 DEBUG in 'deeppavlov.dataset_readers.md_yaml_dialogs_reader'['md_yaml_dialogs_reader'] at line 306: AFTER MLU_MD_DialogsDatasetReader._read_story(): story_fpath=/home/abhishekbhatt/Documents/w_bot_dp/stories-val.md, dialogs=True, domain_knowledge=<deeppavlov.dataset_readers.md_yaml_dialogs_reader.DomainKnowledge object at 0x7f5fc0467550>, intent2slots2text={'greet': {(): [{'text': 'Hi', 'slots': []}, {'text': 'Hey', 'slots': []}, {'text': 'Hi bot', 'slots': []}, {'text': 'Hey bot', 'slots': []}, {'text': 'Hello', 'slots': []}, {'text': 'Good morning', 'slots': []}, {'text': 'hi again', 'slots': []}, {'text': 'hi folks', 'slots': []}]}, 'bye': {(): [{'text': 'goodbye', 'slots': []}, {'text': 'goodnight', 'slots': []}, {'text': 'good bye', 'slots': []}, {'text': 'good night', 'slots': []}, {'text': 'see ya', 'slots': []}, {'text': 'toodle-oo', 'slots': []}, {'text': 'bye bye', 'slots': []}, {'text': 'gotta go', 'slots': []}, {'text': 'farewell', 'slots': []}]}, 'thank': {(): [{'text': 'Thanks', 'slots': []}, {'text': 'Thank you', 'slots': []}, {'text': 'Thank you so much', 'slots': []}, {'text': 'Thanks bot', 'slots': []}, {'text': 'Thanks for that', 'slots': []}, {'text': 'cheers', 'slots': []}]}}, slot_name2text2value={}\n",
      "2021-03-28 00:10:18.464 DEBUG in 'deeppavlov.dataset_readers.md_yaml_dialogs_reader'['md_yaml_dialogs_reader'] at line 217: BEFORE MLU_MD_DialogsDatasetReader._read_story(): story_fpath=/home/abhishekbhatt/Documents/w_bot_dp/stories-tst.md, dialogs=True, domain_knowledge=<deeppavlov.dataset_readers.md_yaml_dialogs_reader.DomainKnowledge object at 0x7f5fc0467550>, intent2slots2text={'greet': {(): [{'text': 'Hi', 'slots': []}, {'text': 'Hey', 'slots': []}, {'text': 'Hi bot', 'slots': []}, {'text': 'Hey bot', 'slots': []}, {'text': 'Hello', 'slots': []}, {'text': 'Good morning', 'slots': []}, {'text': 'hi again', 'slots': []}, {'text': 'hi folks', 'slots': []}]}, 'bye': {(): [{'text': 'goodbye', 'slots': []}, {'text': 'goodnight', 'slots': []}, {'text': 'good bye', 'slots': []}, {'text': 'good night', 'slots': []}, {'text': 'see ya', 'slots': []}, {'text': 'toodle-oo', 'slots': []}, {'text': 'bye bye', 'slots': []}, {'text': 'gotta go', 'slots': []}, {'text': 'farewell', 'slots': []}]}, 'thank': {(): [{'text': 'Thanks', 'slots': []}, {'text': 'Thank you', 'slots': []}, {'text': 'Thank you so much', 'slots': []}, {'text': 'Thanks bot', 'slots': []}, {'text': 'Thanks for that', 'slots': []}, {'text': 'cheers', 'slots': []}]}}, slot_name2text2value={}\n",
      "2021-03-28 00:10:18.469 INFO in 'deeppavlov.dataset_readers.dstc2_reader'['dstc2_reader'] at line 112: [loading dialogs from /tmp/tmpu_vv4tzb]\n",
      "2021-03-28 00:10:18.472 DEBUG in 'deeppavlov.dataset_readers.md_yaml_dialogs_reader'['md_yaml_dialogs_reader'] at line 306: AFTER MLU_MD_DialogsDatasetReader._read_story(): story_fpath=/home/abhishekbhatt/Documents/w_bot_dp/stories-tst.md, dialogs=True, domain_knowledge=<deeppavlov.dataset_readers.md_yaml_dialogs_reader.DomainKnowledge object at 0x7f5fc0467550>, intent2slots2text={'greet': {(): [{'text': 'Hi', 'slots': []}, {'text': 'Hey', 'slots': []}, {'text': 'Hi bot', 'slots': []}, {'text': 'Hey bot', 'slots': []}, {'text': 'Hello', 'slots': []}, {'text': 'Good morning', 'slots': []}, {'text': 'hi again', 'slots': []}, {'text': 'hi folks', 'slots': []}]}, 'bye': {(): [{'text': 'goodbye', 'slots': []}, {'text': 'goodnight', 'slots': []}, {'text': 'good bye', 'slots': []}, {'text': 'good night', 'slots': []}, {'text': 'see ya', 'slots': []}, {'text': 'toodle-oo', 'slots': []}, {'text': 'bye bye', 'slots': []}, {'text': 'gotta go', 'slots': []}, {'text': 'farewell', 'slots': []}]}, 'thank': {(): [{'text': 'Thanks', 'slots': []}, {'text': 'Thank you', 'slots': []}, {'text': 'Thank you so much', 'slots': []}, {'text': 'Thanks bot', 'slots': []}, {'text': 'Thanks for that', 'slots': []}, {'text': 'cheers', 'slots': []}]}}, slot_name2text2value={}\n",
      "2021-03-28 00:10:18.520 INFO in 'deeppavlov.models.embedders.glove_embedder'['glove_embedder'] at line 52: [loading GloVe embeddings from `/home/abhishekbhatt/.deeppavlov/downloads/embeddings/glove.6B.100d.txt`]\n"
     ]
    },
    {
     "name": "stderr",
     "output_type": "stream",
     "text": [
      "2021-03-28 00:12:05.755 INFO in 'deeppavlov.models.go_bot.policy.policy_network'['policy_network'] at line 86: INSIDE PolicyNetwork init(). Initializing PolicyNetwork from checkpoint.\n",
      "2021-03-28 00:12:06.280 INFO in 'deeppavlov.core.models.tf_model'['tf_model'] at line 51: [loading model from /home/abhishekbhatt/Documents/w_bot_dp/model/policy]\n"
     ]
    },
    {
     "name": "stdout",
     "output_type": "stream",
     "text": [
      "INFO:tensorflow:Restoring parameters from /home/abhishekbhatt/Documents/w_bot_dp/model/policy\n"
     ]
    },
    {
     "data": {
      "text/plain": [
       "Chainer[<deeppavlov.models.go_bot.wrapper.DialogComponentWrapper at 0x7f6046e69850>,\n",
       "        <deeppavlov.models.go_bot.go_bot.GoalOrientedBot at 0x7f5fd385f050>]"
      ]
     },
     "execution_count": 51,
     "metadata": {},
     "output_type": "execute_result"
    }
   ],
   "source": [
    "from deeppavlov import train_model\n",
    "\n",
    "train_model(gobot_config, download=True)"
   ]
  },
  {
   "cell_type": "code",
   "execution_count": 52,
   "id": "monthly-physiology",
   "metadata": {},
   "outputs": [
    {
     "name": "stderr",
     "output_type": "stream",
     "text": [
      "2021-03-28 00:12:51.944 INFO in 'deeppavlov.core.data.simple_vocab'['simple_vocab'] at line 115: [loading vocabulary from /home/abhishekbhatt/Documents/w_bot_dp/word.dict]\n",
      "2021-03-28 00:12:52.503 DEBUG in 'deeppavlov.dataset_readers.md_yaml_dialogs_reader'['md_yaml_dialogs_reader'] at line 217: BEFORE MLU_MD_DialogsDatasetReader._read_story(): story_fpath=/home/abhishekbhatt/Documents/w_bot_dp/stories-trn.md, dialogs=True, domain_knowledge=<deeppavlov.dataset_readers.md_yaml_dialogs_reader.DomainKnowledge object at 0x7f5fc02c48d0>, intent2slots2text={'greet': {(): [{'text': 'Hi', 'slots': []}, {'text': 'Hey', 'slots': []}, {'text': 'Hi bot', 'slots': []}, {'text': 'Hey bot', 'slots': []}, {'text': 'Hello', 'slots': []}, {'text': 'Good morning', 'slots': []}, {'text': 'hi again', 'slots': []}, {'text': 'hi folks', 'slots': []}]}, 'bye': {(): [{'text': 'goodbye', 'slots': []}, {'text': 'goodnight', 'slots': []}, {'text': 'good bye', 'slots': []}, {'text': 'good night', 'slots': []}, {'text': 'see ya', 'slots': []}, {'text': 'toodle-oo', 'slots': []}, {'text': 'bye bye', 'slots': []}, {'text': 'gotta go', 'slots': []}, {'text': 'farewell', 'slots': []}]}, 'thank': {(): [{'text': 'Thanks', 'slots': []}, {'text': 'Thank you', 'slots': []}, {'text': 'Thank you so much', 'slots': []}, {'text': 'Thanks bot', 'slots': []}, {'text': 'Thanks for that', 'slots': []}, {'text': 'cheers', 'slots': []}]}}, slot_name2text2value={}\n",
      "2021-03-28 00:12:52.508 INFO in 'deeppavlov.dataset_readers.dstc2_reader'['dstc2_reader'] at line 112: [loading dialogs from /tmp/tmpsgj2brk6]\n",
      "2021-03-28 00:12:52.514 DEBUG in 'deeppavlov.dataset_readers.md_yaml_dialogs_reader'['md_yaml_dialogs_reader'] at line 306: AFTER MLU_MD_DialogsDatasetReader._read_story(): story_fpath=/home/abhishekbhatt/Documents/w_bot_dp/stories-trn.md, dialogs=True, domain_knowledge=<deeppavlov.dataset_readers.md_yaml_dialogs_reader.DomainKnowledge object at 0x7f5fc02c48d0>, intent2slots2text={'greet': {(): [{'text': 'Hi', 'slots': []}, {'text': 'Hey', 'slots': []}, {'text': 'Hi bot', 'slots': []}, {'text': 'Hey bot', 'slots': []}, {'text': 'Hello', 'slots': []}, {'text': 'Good morning', 'slots': []}, {'text': 'hi again', 'slots': []}, {'text': 'hi folks', 'slots': []}]}, 'bye': {(): [{'text': 'goodbye', 'slots': []}, {'text': 'goodnight', 'slots': []}, {'text': 'good bye', 'slots': []}, {'text': 'good night', 'slots': []}, {'text': 'see ya', 'slots': []}, {'text': 'toodle-oo', 'slots': []}, {'text': 'bye bye', 'slots': []}, {'text': 'gotta go', 'slots': []}, {'text': 'farewell', 'slots': []}]}, 'thank': {(): [{'text': 'Thanks', 'slots': []}, {'text': 'Thank you', 'slots': []}, {'text': 'Thank you so much', 'slots': []}, {'text': 'Thanks bot', 'slots': []}, {'text': 'Thanks for that', 'slots': []}, {'text': 'cheers', 'slots': []}]}}, slot_name2text2value={}\n",
      "2021-03-28 00:12:52.516 DEBUG in 'deeppavlov.dataset_readers.md_yaml_dialogs_reader'['md_yaml_dialogs_reader'] at line 217: BEFORE MLU_MD_DialogsDatasetReader._read_story(): story_fpath=/home/abhishekbhatt/Documents/w_bot_dp/stories-val.md, dialogs=True, domain_knowledge=<deeppavlov.dataset_readers.md_yaml_dialogs_reader.DomainKnowledge object at 0x7f5fc02c48d0>, intent2slots2text={'greet': {(): [{'text': 'Hi', 'slots': []}, {'text': 'Hey', 'slots': []}, {'text': 'Hi bot', 'slots': []}, {'text': 'Hey bot', 'slots': []}, {'text': 'Hello', 'slots': []}, {'text': 'Good morning', 'slots': []}, {'text': 'hi again', 'slots': []}, {'text': 'hi folks', 'slots': []}]}, 'bye': {(): [{'text': 'goodbye', 'slots': []}, {'text': 'goodnight', 'slots': []}, {'text': 'good bye', 'slots': []}, {'text': 'good night', 'slots': []}, {'text': 'see ya', 'slots': []}, {'text': 'toodle-oo', 'slots': []}, {'text': 'bye bye', 'slots': []}, {'text': 'gotta go', 'slots': []}, {'text': 'farewell', 'slots': []}]}, 'thank': {(): [{'text': 'Thanks', 'slots': []}, {'text': 'Thank you', 'slots': []}, {'text': 'Thank you so much', 'slots': []}, {'text': 'Thanks bot', 'slots': []}, {'text': 'Thanks for that', 'slots': []}, {'text': 'cheers', 'slots': []}]}}, slot_name2text2value={}\n",
      "2021-03-28 00:12:52.520 INFO in 'deeppavlov.dataset_readers.dstc2_reader'['dstc2_reader'] at line 112: [loading dialogs from /tmp/tmpthibs6hg]\n",
      "2021-03-28 00:12:52.523 DEBUG in 'deeppavlov.dataset_readers.md_yaml_dialogs_reader'['md_yaml_dialogs_reader'] at line 306: AFTER MLU_MD_DialogsDatasetReader._read_story(): story_fpath=/home/abhishekbhatt/Documents/w_bot_dp/stories-val.md, dialogs=True, domain_knowledge=<deeppavlov.dataset_readers.md_yaml_dialogs_reader.DomainKnowledge object at 0x7f5fc02c48d0>, intent2slots2text={'greet': {(): [{'text': 'Hi', 'slots': []}, {'text': 'Hey', 'slots': []}, {'text': 'Hi bot', 'slots': []}, {'text': 'Hey bot', 'slots': []}, {'text': 'Hello', 'slots': []}, {'text': 'Good morning', 'slots': []}, {'text': 'hi again', 'slots': []}, {'text': 'hi folks', 'slots': []}]}, 'bye': {(): [{'text': 'goodbye', 'slots': []}, {'text': 'goodnight', 'slots': []}, {'text': 'good bye', 'slots': []}, {'text': 'good night', 'slots': []}, {'text': 'see ya', 'slots': []}, {'text': 'toodle-oo', 'slots': []}, {'text': 'bye bye', 'slots': []}, {'text': 'gotta go', 'slots': []}, {'text': 'farewell', 'slots': []}]}, 'thank': {(): [{'text': 'Thanks', 'slots': []}, {'text': 'Thank you', 'slots': []}, {'text': 'Thank you so much', 'slots': []}, {'text': 'Thanks bot', 'slots': []}, {'text': 'Thanks for that', 'slots': []}, {'text': 'cheers', 'slots': []}]}}, slot_name2text2value={}\n",
      "2021-03-28 00:12:52.525 DEBUG in 'deeppavlov.dataset_readers.md_yaml_dialogs_reader'['md_yaml_dialogs_reader'] at line 217: BEFORE MLU_MD_DialogsDatasetReader._read_story(): story_fpath=/home/abhishekbhatt/Documents/w_bot_dp/stories-tst.md, dialogs=True, domain_knowledge=<deeppavlov.dataset_readers.md_yaml_dialogs_reader.DomainKnowledge object at 0x7f5fc02c48d0>, intent2slots2text={'greet': {(): [{'text': 'Hi', 'slots': []}, {'text': 'Hey', 'slots': []}, {'text': 'Hi bot', 'slots': []}, {'text': 'Hey bot', 'slots': []}, {'text': 'Hello', 'slots': []}, {'text': 'Good morning', 'slots': []}, {'text': 'hi again', 'slots': []}, {'text': 'hi folks', 'slots': []}]}, 'bye': {(): [{'text': 'goodbye', 'slots': []}, {'text': 'goodnight', 'slots': []}, {'text': 'good bye', 'slots': []}, {'text': 'good night', 'slots': []}, {'text': 'see ya', 'slots': []}, {'text': 'toodle-oo', 'slots': []}, {'text': 'bye bye', 'slots': []}, {'text': 'gotta go', 'slots': []}, {'text': 'farewell', 'slots': []}]}, 'thank': {(): [{'text': 'Thanks', 'slots': []}, {'text': 'Thank you', 'slots': []}, {'text': 'Thank you so much', 'slots': []}, {'text': 'Thanks bot', 'slots': []}, {'text': 'Thanks for that', 'slots': []}, {'text': 'cheers', 'slots': []}]}}, slot_name2text2value={}\n",
      "2021-03-28 00:12:52.537 INFO in 'deeppavlov.dataset_readers.dstc2_reader'['dstc2_reader'] at line 112: [loading dialogs from /tmp/tmp_yrbf4qd]\n",
      "2021-03-28 00:12:52.541 DEBUG in 'deeppavlov.dataset_readers.md_yaml_dialogs_reader'['md_yaml_dialogs_reader'] at line 306: AFTER MLU_MD_DialogsDatasetReader._read_story(): story_fpath=/home/abhishekbhatt/Documents/w_bot_dp/stories-tst.md, dialogs=True, domain_knowledge=<deeppavlov.dataset_readers.md_yaml_dialogs_reader.DomainKnowledge object at 0x7f5fc02c48d0>, intent2slots2text={'greet': {(): [{'text': 'Hi', 'slots': []}, {'text': 'Hey', 'slots': []}, {'text': 'Hi bot', 'slots': []}, {'text': 'Hey bot', 'slots': []}, {'text': 'Hello', 'slots': []}, {'text': 'Good morning', 'slots': []}, {'text': 'hi again', 'slots': []}, {'text': 'hi folks', 'slots': []}]}, 'bye': {(): [{'text': 'goodbye', 'slots': []}, {'text': 'goodnight', 'slots': []}, {'text': 'good bye', 'slots': []}, {'text': 'good night', 'slots': []}, {'text': 'see ya', 'slots': []}, {'text': 'toodle-oo', 'slots': []}, {'text': 'bye bye', 'slots': []}, {'text': 'gotta go', 'slots': []}, {'text': 'farewell', 'slots': []}]}, 'thank': {(): [{'text': 'Thanks', 'slots': []}, {'text': 'Thank you', 'slots': []}, {'text': 'Thank you so much', 'slots': []}, {'text': 'Thanks bot', 'slots': []}, {'text': 'Thanks for that', 'slots': []}, {'text': 'cheers', 'slots': []}]}}, slot_name2text2value={}\n"
     ]
    },
    {
     "name": "stderr",
     "output_type": "stream",
     "text": [
      "2021-03-28 00:12:52.564 INFO in 'deeppavlov.models.embedders.glove_embedder'['glove_embedder'] at line 52: [loading GloVe embeddings from `/home/abhishekbhatt/.deeppavlov/downloads/embeddings/glove.6B.100d.txt`]\n",
      "2021-03-28 00:14:33.1 INFO in 'deeppavlov.models.go_bot.policy.policy_network'['policy_network'] at line 86: INSIDE PolicyNetwork init(). Initializing PolicyNetwork from checkpoint.\n",
      "2021-03-28 00:14:33.560 INFO in 'deeppavlov.core.models.tf_model'['tf_model'] at line 51: [loading model from /home/abhishekbhatt/Documents/w_bot_dp/model/policy]\n"
     ]
    },
    {
     "name": "stdout",
     "output_type": "stream",
     "text": [
      "INFO:tensorflow:Restoring parameters from /home/abhishekbhatt/Documents/w_bot_dp/model/policy\n"
     ]
    }
   ],
   "source": [
    "from deeppavlov import build_model\n",
    "bot = build_model(gobot_config)"
   ]
  },
  {
   "cell_type": "markdown",
   "id": "cognitive-millennium",
   "metadata": {},
   "source": [
    "### Having trained and build the model now we can test if it gives the expected utterances to sentences."
   ]
  },
  {
   "cell_type": "code",
   "execution_count": 53,
   "id": "chinese-employment",
   "metadata": {},
   "outputs": [
    {
     "data": {
      "text/plain": [
       "('utter_greet',)"
      ]
     },
     "execution_count": 53,
     "metadata": {},
     "output_type": "execute_result"
    }
   ],
   "source": [
    "bot.reset()\n",
    "\n",
    "bot([\"start\"])\n",
    "bot([\"Hi\"])[0][0].actions_tuple"
   ]
  },
  {
   "cell_type": "markdown",
   "id": "invisible-serbia",
   "metadata": {},
   "source": [
    "As we can see the bot is responding to a greeting with a greeting of its own! Next we give it a sentence asking for the weather conditions, to which it should respond with 'utter_ask_location'"
   ]
  },
  {
   "cell_type": "code",
   "execution_count": 54,
   "id": "devoted-catholic",
   "metadata": {},
   "outputs": [
    {
     "data": {
      "text/plain": [
       "('utter_noworries',)"
      ]
     },
     "execution_count": 54,
     "metadata": {},
     "output_type": "execute_result"
    }
   ],
   "source": [
    "bot.reset()\n",
    "bot([\"start\"])\n",
    "\n",
    "bot([\"How's the weather today?\"])[0][0].actions_tuple"
   ]
  },
  {
   "cell_type": "code",
   "execution_count": 55,
   "id": "noted-greensboro",
   "metadata": {},
   "outputs": [
    {
     "data": {
      "text/plain": [
       "('utter_noworries',)"
      ]
     },
     "execution_count": 55,
     "metadata": {},
     "output_type": "execute_result"
    }
   ],
   "source": [
    "bot.reset()\n",
    "bot([\"start\"])\n",
    "\n",
    "bot([\"Thanks!\"])[0][0].actions_tuple"
   ]
  },
  {
   "cell_type": "code",
   "execution_count": 56,
   "id": "elegant-speaker",
   "metadata": {},
   "outputs": [
    {
     "data": {
      "text/plain": [
       "('utter_bye',)"
      ]
     },
     "execution_count": 56,
     "metadata": {},
     "output_type": "execute_result"
    }
   ],
   "source": [
    "bot.reset()\n",
    "bot([\"start\"])\n",
    "\n",
    "bot([\"goodbye!\"])[0][0].actions_tuple"
   ]
  },
  {
   "cell_type": "code",
   "execution_count": 57,
   "id": "peaceful-apache",
   "metadata": {},
   "outputs": [
    {
     "data": {
      "text/plain": [
       "('utter_noworries',)"
      ]
     },
     "execution_count": 57,
     "metadata": {},
     "output_type": "execute_result"
    }
   ],
   "source": [
    "bot.reset()\n",
    "bot([\"start\"])\n",
    "\n",
    "bot([\"at Budapest\"])[0][0].actions_tuple"
   ]
  },
  {
   "cell_type": "code",
   "execution_count": 35,
   "id": "binary-thursday",
   "metadata": {},
   "outputs": [
    {
     "data": {
      "text/plain": [
       "('utter_noworries',)"
      ]
     },
     "execution_count": 35,
     "metadata": {},
     "output_type": "execute_result"
    }
   ],
   "source": [
    "bot.reset()\n",
    "bot([\"start\"])\n",
    "\n",
    "bot([\"How's the weather at Berlin today?\"])[0][0].actions_tuple"
   ]
  },
  {
   "cell_type": "code",
   "execution_count": null,
   "id": "operating-causing",
   "metadata": {},
   "outputs": [],
   "source": []
  }
 ],
 "metadata": {
  "kernelspec": {
   "display_name": "Python 3",
   "language": "python",
   "name": "python3"
  },
  "language_info": {
   "codemirror_mode": {
    "name": "ipython",
    "version": 3
   },
   "file_extension": ".py",
   "mimetype": "text/x-python",
   "name": "python",
   "nbconvert_exporter": "python",
   "pygments_lexer": "ipython3",
   "version": "3.7.4"
  }
 },
 "nbformat": 4,
 "nbformat_minor": 5
}
